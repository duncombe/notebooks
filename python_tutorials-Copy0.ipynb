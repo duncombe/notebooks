{
 "metadata": {
  "name": "",
  "signature": "sha256:4d1247085a3543b43b5d2f552a385a4803e6ff11e2291eeb7d77f68a66f05364"
 },
 "nbformat": 3,
 "nbformat_minor": 0,
 "worksheets": [
  {
   "cells": [
    {
     "cell_type": "markdown",
     "metadata": {},
     "source": [
      "Tutorials from \n",
      "    - https://wiki.python.org/moin/BeginnersGuide/Programmers a source for tutorial sites\n",
      "    - http://hetland.org/writing/instant-python.html started with this but way simple, and poor examples    \n",
      "    - http://www.python-course.eu/execute_script.php then started this\n",
      "    - "
     ]
    },
    {
     "cell_type": "code",
     "collapsed": false,
     "input": [],
     "language": "python",
     "metadata": {},
     "outputs": []
    },
    {
     "cell_type": "code",
     "collapsed": false,
     "input": [
      "# \n",
      "# http://hetland.org/writing/instant-python.html\n",
      "x,y,z=1,2,3\n",
      "print x\n",
      "print z\n",
      "\n",
      "first=\"fourth\"\n",
      "second = 'third'\n",
      "first,second = second,first\n",
      "\n",
      "print first, second"
     ],
     "language": "python",
     "metadata": {},
     "outputs": [
      {
       "output_type": "stream",
       "stream": "stdout",
       "text": [
        "1\n",
        "3\n",
        "third fourth\n"
       ]
      }
     ],
     "prompt_number": 8
    },
    {
     "cell_type": "code",
     "collapsed": false,
     "input": [
      "\n",
      "# mod from http://hetland.org/writing/instant-python.html\n",
      "def ffun(x):\n",
      "    if x < 5 or (x > 10 and x <20 ):\n",
      "        print  \"The value is OK.\"\n",
      "    else:\n",
      "        print \"The value is NOT ok.\"\n",
      "\n",
      "    if  x < 5 or 10 < x < 20:\n",
      "        print \"The value is OK.\""
     ],
     "language": "python",
     "metadata": {},
     "outputs": [],
     "prompt_number": 17
    },
    {
     "cell_type": "code",
     "collapsed": false,
     "input": [
      "\n",
      "# mod from http://hetland.org/writing/instant-python.html\n",
      "ii=0\n",
      "for i in [1,2,3,4,5,6,7,9]:\n",
      "    ii+=1\n",
      "    print \"This is iteration\", ii\n",
      "    print i\n",
      "    ffun(i)\n"
     ],
     "language": "python",
     "metadata": {},
     "outputs": [
      {
       "output_type": "stream",
       "stream": "stdout",
       "text": [
        "This is iteration 1\n",
        "1\n",
        "The value is OK.\n",
        "The value is OK.\n",
        "This is iteration 2\n",
        "2\n",
        "The value is OK.\n",
        "The value is OK.\n",
        "This is iteration 3\n",
        "3\n",
        "The value is OK.\n",
        "The value is OK.\n",
        "This is iteration 4\n",
        "4\n",
        "The value is OK.\n",
        "The value is OK.\n",
        "This is iteration 5\n",
        "5\n",
        "The value is NOT ok.\n",
        "This is iteration 6\n",
        "6\n",
        "The value is NOT ok.\n",
        "This is iteration 7\n",
        "7\n",
        "The value is NOT ok.\n",
        "This is iteration 8\n",
        "9\n",
        "The value is NOT ok.\n"
       ]
      }
     ],
     "prompt_number": 18
    },
    {
     "cell_type": "code",
     "collapsed": false,
     "input": [
      "3+2+1\n",
      "\n"
     ],
     "language": "python",
     "metadata": {},
     "outputs": [
      {
       "metadata": {},
       "output_type": "pyout",
       "prompt_number": 22,
       "text": [
        "6"
       ]
      }
     ],
     "prompt_number": 22
    },
    {
     "cell_type": "code",
     "collapsed": false,
     "input": [
      "_"
     ],
     "language": "python",
     "metadata": {},
     "outputs": [
      {
       "metadata": {},
       "output_type": "pyout",
       "prompt_number": 24,
       "text": [
        "6"
       ]
      }
     ],
     "prompt_number": 24
    },
    {
     "cell_type": "code",
     "collapsed": false,
     "input": [
      "pwd"
     ],
     "language": "python",
     "metadata": {},
     "outputs": []
    },
    {
     "cell_type": "code",
     "collapsed": false,
     "input": [
      "ls"
     ],
     "language": "python",
     "metadata": {},
     "outputs": []
    },
    {
     "cell_type": "code",
     "collapsed": false,
     "input": [
      "# From http://www.python-course.eu/execute_script.php\n",
      "python('easy-to-write.py')\n",
      "    "
     ],
     "language": "python",
     "metadata": {},
     "outputs": [
      {
       "ename": "NameError",
       "evalue": "name 'python' is not defined",
       "output_type": "pyerr",
       "traceback": [
        "\u001b[1;31m---------------------------------------------------------------------------\u001b[0m\n\u001b[1;31mNameError\u001b[0m                                 Traceback (most recent call last)",
        "\u001b[1;32m<ipython-input-26-f8f5aa32d335>\u001b[0m in \u001b[0;36m<module>\u001b[1;34m()\u001b[0m\n\u001b[0;32m      1\u001b[0m \u001b[1;31m# From http://www.python-course.eu/execute_script.php\u001b[0m\u001b[1;33m\u001b[0m\u001b[1;33m\u001b[0m\u001b[0m\n\u001b[1;32m----> 2\u001b[1;33m \u001b[0mpython\u001b[0m\u001b[1;33m(\u001b[0m\u001b[1;34m'easy-to-write.py'\u001b[0m\u001b[1;33m)\u001b[0m\u001b[1;33m\u001b[0m\u001b[0m\n\u001b[0m\u001b[0;32m      3\u001b[0m \u001b[1;33m\u001b[0m\u001b[0m\n",
        "\u001b[1;31mNameError\u001b[0m: name 'python' is not defined"
       ]
      }
     ],
     "prompt_number": 26
    }
   ],
   "metadata": {}
  }
 ]
}