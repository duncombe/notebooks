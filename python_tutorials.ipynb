{
 "metadata": {
  "name": "",
  "signature": "sha256:70d29e409574c6ef1d3a15619a9d10d4f208b28a32070f1bae30a67135b5b573"
 },
 "nbformat": 3,
 "nbformat_minor": 0,
 "worksheets": [
  {
   "cells": [
    {
     "cell_type": "markdown",
     "metadata": {},
     "source": [
      "Tutorials from \n",
      "    - https://wiki.python.org/moin/BeginnersGuide/Programmers a source for tutorial sites\n",
      "    - http://hetland.org/writing/instant-python.html started with this but way simple, and poor examples    \n",
      "    - http://www.python-course.eu/execute_script.php then started this\n",
      "    - "
     ]
    },
    {
     "cell_type": "code",
     "collapsed": false,
     "input": [
      "\n",
      "\n"
     ],
     "language": "python",
     "metadata": {},
     "outputs": [],
     "prompt_number": 0
    },
    {
     "cell_type": "code",
     "collapsed": false,
     "input": [
      "# \n",
      "# http://hetland.org/writing/instant-python.html\n",
      "x,y,z=1,2,3\n",
      "print x\n",
      "print z\n",
      "\n",
      "first=\"fourth\"\n",
      "second = 'third'\n",
      "first,second = second,first\n",
      "\n",
      "print first, second"
     ],
     "language": "python",
     "metadata": {},
     "outputs": [
      {
       "output_type": "stream",
       "stream": "stdout",
       "text": [
        "1\n",
        "3\n",
        "third fourth\n"
       ]
      }
     ],
     "prompt_number": 1
    },
    {
     "cell_type": "code",
     "collapsed": false,
     "input": [
      "\n",
      "# mod from http://hetland.org/writing/instant-python.html\n",
      "def ffun(x):\n",
      "    if x < 5 or (x > 10 and x <20 ):\n",
      "        print  \"The value is OK.\"\n",
      "    else:\n",
      "        print \"The value is NOT ok.\"\n",
      "\n",
      "    if  x < 5 or 10 < x < 20:\n",
      "        print \"The value is OK.\""
     ],
     "language": "python",
     "metadata": {},
     "outputs": [],
     "prompt_number": 2
    },
    {
     "cell_type": "code",
     "collapsed": true,
     "input": [
      "\n",
      "# mod from http://hetland.org/writing/instant-python.html\n",
      "ii=0\n",
      "for i in [1,2,3,4,5,6,7,9]:\n",
      "    ii+=1\n",
      "    print \"This is iteration\", ii\n",
      "    print i\n",
      "    ffun(i)\n"
     ],
     "language": "python",
     "metadata": {},
     "outputs": [
      {
       "output_type": "stream",
       "stream": "stdout",
       "text": [
        "This is iteration 1\n",
        "1\n",
        "The value is OK.\n",
        "The value is OK.\n",
        "This is iteration 2\n",
        "2\n",
        "The value is OK.\n",
        "The value is OK.\n",
        "This is iteration 3\n",
        "3\n",
        "The value is OK.\n",
        "The value is OK.\n",
        "This is iteration 4\n",
        "4\n",
        "The value is OK.\n",
        "The value is OK.\n",
        "This is iteration 5\n",
        "5\n",
        "The value is NOT ok.\n",
        "This is iteration 6\n",
        "6\n",
        "The value is NOT ok.\n",
        "This is iteration 7\n",
        "7\n",
        "The value is NOT ok.\n",
        "This is iteration 8\n",
        "9\n",
        "The value is NOT ok.\n"
       ]
      }
     ],
     "prompt_number": 3
    },
    {
     "cell_type": "code",
     "collapsed": false,
     "input": [
      "3+2+1\n",
      "\n"
     ],
     "language": "python",
     "metadata": {},
     "outputs": [
      {
       "metadata": {},
       "output_type": "pyout",
       "prompt_number": 4,
       "text": [
        "6"
       ]
      }
     ],
     "prompt_number": 4
    },
    {
     "cell_type": "code",
     "collapsed": false,
     "input": [
      "_"
     ],
     "language": "python",
     "metadata": {},
     "outputs": [
      {
       "metadata": {},
       "output_type": "pyout",
       "prompt_number": 5,
       "text": [
        "6"
       ]
      }
     ],
     "prompt_number": 5
    },
    {
     "cell_type": "code",
     "collapsed": false,
     "input": [
      "# pwd works in a cell all by itself"
     ],
     "language": "python",
     "metadata": {},
     "outputs": [],
     "prompt_number": 16
    },
    {
     "cell_type": "code",
     "collapsed": false,
     "input": [
      "pwd"
     ],
     "language": "python",
     "metadata": {},
     "outputs": [
      {
       "metadata": {},
       "output_type": "pyout",
       "prompt_number": 17,
       "text": [
        "u'/data/duncombe/IOOS/notebooks'"
       ]
      }
     ],
     "prompt_number": 17
    },
    {
     "cell_type": "code",
     "collapsed": false,
     "input": [
      "ls"
     ],
     "language": "python",
     "metadata": {},
     "outputs": [
      {
       "output_type": "stream",
       "stream": "stdout",
       "text": [
        "README.md               gitsubtree.ipynb              python_tutorials.ipynb\r\n",
        "conda-requirements.txt  python_tutorials-Copy0.ipynb\r\n",
        "easy-to-write.py        python_tutorials-Copy1.ipynb\r\n"
       ]
      }
     ],
     "prompt_number": 18
    },
    {
     "cell_type": "code",
     "collapsed": false,
     "input": [
      "# From http://www.python-course.eu/execute_script.php\n",
      "%run easy-to-write\n",
      "    "
     ],
     "language": "python",
     "metadata": {},
     "outputs": [
      {
       "output_type": "stream",
       "stream": "stdout",
       "text": [
        "It's easy to write a Python script!\n"
       ]
      }
     ],
     "prompt_number": 19
    },
    {
     "cell_type": "code",
     "collapsed": false,
     "input": [
      "import py_compile\n",
      "py_compile.compile('easy-to-write.py')"
     ],
     "language": "python",
     "metadata": {},
     "outputs": [],
     "prompt_number": 20
    },
    {
     "cell_type": "code",
     "collapsed": false,
     "input": [
      "id(x)"
     ],
     "language": "python",
     "metadata": {},
     "outputs": [
      {
       "metadata": {},
       "output_type": "pyout",
       "prompt_number": 21,
       "text": [
        "37503384"
       ]
      }
     ],
     "prompt_number": 21
    },
    {
     "cell_type": "code",
     "collapsed": false,
     "input": [
      "print id(x)\n",
      "print type(x)\n",
      "!python --version"
     ],
     "language": "python",
     "metadata": {},
     "outputs": [
      {
       "output_type": "stream",
       "stream": "stdout",
       "text": [
        "37503384\n",
        "<type 'int'>\n",
        "Python 2.7.8 :: Continuum Analytics, Inc.\r\n"
       ]
      }
     ],
     "prompt_number": 22
    },
    {
     "cell_type": "code",
     "collapsed": false,
     "input": [
      "x=3 \n",
      "print id(x)\n",
      "y=x\n",
      "print id(y)\n",
      "y=2\n",
      "print id(y)\n",
      "print id(x)"
     ],
     "language": "python",
     "metadata": {},
     "outputs": [
      {
       "output_type": "stream",
       "stream": "stdout",
       "text": [
        "37503336\n",
        "37503336\n",
        "37503360\n",
        "37503336\n"
       ]
      }
     ],
     "prompt_number": 23
    },
    {
     "cell_type": "code",
     "collapsed": false,
     "input": [
      "\n"
     ],
     "language": "python",
     "metadata": {},
     "outputs": [],
     "prompt_number": 30
    },
    {
     "cell_type": "code",
     "collapsed": false,
     "input": [
      "print bin(7723)\n",
      "print 07723 # octal\n",
      "print 7723  # decimal\n",
      "print 0x7723 # hexadecimal\n",
      "print 98713459076123456769076132450971904579001L*0x183476779879018734AB37541DE3L\n",
      "print 0b11010001010100110001011010001010101011111010101011011111001111111111111111111111111100000111110101000101010010011010010001111\n",
      "print int('ab1235cd125sqwere456fg',36)\n",
      "print int('z',36), int('10',36), int('11',36)\n",
      "print int('A',36)\n"
     ],
     "language": "python",
     "metadata": {},
     "outputs": [
      {
       "output_type": "stream",
       "stream": "stdout",
       "text": [
        "0b1111000101011\n",
        "4051\n",
        "7723\n",
        "30499\n",
        "48461828731703307478061845238966274936576171859734197123656755051376031755\n",
        "34780008619896245476459847390398592143\n",
        "4959733324114973510602912093789132\n",
        "35 36 37\n",
        "10\n"
       ]
      }
     ],
     "prompt_number": 30
    },
    {
     "cell_type": "code",
     "collapsed": false,
     "input": [
      "import sys\n",
      "print sys.maxint\n",
      "sys.platform"
     ],
     "language": "python",
     "metadata": {},
     "outputs": [
      {
       "output_type": "stream",
       "stream": "stdout",
       "text": [
        "2147483647\n"
       ]
      },
      {
       "metadata": {},
       "output_type": "pyout",
       "prompt_number": 31,
       "text": [
        "'win32'"
       ]
      }
     ],
     "prompt_number": 31
    },
    {
     "cell_type": "code",
     "collapsed": false,
     "input": [
      "ABC=\"worthless scum\"\n",
      "ABC[-3:]"
     ],
     "language": "python",
     "metadata": {},
     "outputs": [
      {
       "metadata": {},
       "output_type": "pyout",
       "prompt_number": 45,
       "text": [
        "'cum'"
       ]
      }
     ],
     "prompt_number": 45
    },
    {
     "cell_type": "code",
     "collapsed": false,
     "input": [
      "DEF=[\"pervert\", ' ', \"stinking\"]\n",
      "print 1, DEF[::-1]\n",
      "\n",
      "FED=list(reversed(DEF))\n",
      "print 2, FED\n",
      "for i in FED: \n",
      "    print i\n",
      "\n",
      "print 3, [i for i in FED]\n",
      "\n",
      "print 4, ''.join(FED)\n",
      "\n",
      "print 5, 'filthy', ''.join(FED)\n"
     ],
     "language": "python",
     "metadata": {},
     "outputs": [
      {
       "output_type": "stream",
       "stream": "stdout",
       "text": [
        "1 ['stinking', ' ', 'pervert']\n",
        "2 ['stinking', ' ', 'pervert']\n",
        "stinking\n",
        " \n",
        "pervert\n",
        "3 ['stinking', ' ', 'pervert']\n",
        "4 stinking pervert\n",
        "5 filthy stinking pervert\n"
       ]
      }
     ],
     "prompt_number": 90
    },
    {
     "cell_type": "code",
     "collapsed": false,
     "input": [
      "help('is')"
     ],
     "language": "python",
     "metadata": {},
     "outputs": [
      {
       "output_type": "stream",
       "stream": "stdout",
       "text": [
        "Comparisons\n",
        "***********\n",
        "\n",
        "Unlike C, all comparison operations in Python have the same priority,\n",
        "which is lower than that of any arithmetic, shifting or bitwise\n",
        "operation.  Also unlike C, expressions like ``a < b < c`` have the\n",
        "interpretation that is conventional in mathematics:\n",
        "\n",
        "   comparison    ::= or_expr ( comp_operator or_expr )*\n",
        "   comp_operator ::= \"<\" | \">\" | \"==\" | \">=\" | \"<=\" | \"<>\" | \"!=\"\n",
        "                     | \"is\" [\"not\"] | [\"not\"] \"in\"\n",
        "\n",
        "Comparisons yield boolean values: ``True`` or ``False``.\n",
        "\n",
        "Comparisons can be chained arbitrarily, e.g., ``x < y <= z`` is\n",
        "equivalent to ``x < y and y <= z``, except that ``y`` is evaluated\n",
        "only once (but in both cases ``z`` is not evaluated at all when ``x <\n",
        "y`` is found to be false).\n",
        "\n",
        "Formally, if *a*, *b*, *c*, ..., *y*, *z* are expressions and *op1*,\n",
        "*op2*, ..., *opN* are comparison operators, then ``a op1 b op2 c ... y\n",
        "opN z`` is equivalent to ``a op1 b and b op2 c and ... y opN z``,\n",
        "except that each expression is evaluated at most once.\n",
        "\n",
        "Note that ``a op1 b op2 c`` doesn't imply any kind of comparison\n",
        "between *a* and *c*, so that, e.g., ``x < y > z`` is perfectly legal\n",
        "(though perhaps not pretty).\n",
        "\n",
        "The forms ``<>`` and ``!=`` are equivalent; for consistency with C,\n",
        "``!=`` is preferred; where ``!=`` is mentioned below ``<>`` is also\n",
        "accepted.  The ``<>`` spelling is considered obsolescent.\n",
        "\n",
        "The operators ``<``, ``>``, ``==``, ``>=``, ``<=``, and ``!=`` compare\n",
        "the values of two objects.  The objects need not have the same type.\n",
        "If both are numbers, they are converted to a common type.  Otherwise,\n",
        "objects of different types *always* compare unequal, and are ordered\n",
        "consistently but arbitrarily. You can control comparison behavior of\n",
        "objects of non-built-in types by defining a ``__cmp__`` method or rich\n",
        "comparison methods like ``__gt__``, described in section *Special\n",
        "method names*.\n",
        "\n",
        "(This unusual definition of comparison was used to simplify the\n",
        "definition of operations like sorting and the ``in`` and ``not in``\n",
        "operators. In the future, the comparison rules for objects of\n",
        "different types are likely to change.)\n",
        "\n",
        "Comparison of objects of the same type depends on the type:\n",
        "\n",
        "* Numbers are compared arithmetically.\n",
        "\n",
        "* Strings are compared lexicographically using the numeric equivalents\n",
        "  (the result of the built-in function ``ord()``) of their characters.\n",
        "  Unicode and 8-bit strings are fully interoperable in this behavior.\n",
        "  [4]\n",
        "\n",
        "* Tuples and lists are compared lexicographically using comparison of\n",
        "  corresponding elements.  This means that to compare equal, each\n",
        "  element must compare equal and the two sequences must be of the same\n",
        "  type and have the same length.\n",
        "\n",
        "  If not equal, the sequences are ordered the same as their first\n",
        "  differing elements.  For example, ``cmp([1,2,x], [1,2,y])`` returns\n",
        "  the same as ``cmp(x,y)``.  If the corresponding element does not\n",
        "  exist, the shorter sequence is ordered first (for example, ``[1,2] <\n",
        "  [1,2,3]``).\n",
        "\n",
        "* Mappings (dictionaries) compare equal if and only if their sorted\n",
        "  (key, value) lists compare equal. [5] Outcomes other than equality\n",
        "  are resolved consistently, but are not otherwise defined. [6]\n",
        "\n",
        "* Most other objects of built-in types compare unequal unless they are\n",
        "  the same object; the choice whether one object is considered smaller\n",
        "  or larger than another one is made arbitrarily but consistently\n",
        "  within one execution of a program.\n",
        "\n",
        "The operators ``in`` and ``not in`` test for collection membership.\n",
        "``x in s`` evaluates to true if *x* is a member of the collection *s*,\n",
        "and false otherwise.  ``x not in s`` returns the negation of ``x in\n",
        "s``. The collection membership test has traditionally been bound to\n",
        "sequences; an object is a member of a collection if the collection is\n",
        "a sequence and contains an element equal to that object.  However, it\n",
        "make sense for many other object types to support membership tests\n",
        "without being a sequence.  In particular, dictionaries (for keys) and\n",
        "sets support membership testing.\n",
        "\n",
        "For the list and tuple types, ``x in y`` is true if and only if there\n",
        "exists an index *i* such that ``x == y[i]`` is true.\n",
        "\n",
        "For the Unicode and string types, ``x in y`` is true if and only if\n",
        "*x* is a substring of *y*.  An equivalent test is ``y.find(x) != -1``.\n",
        "Note, *x* and *y* need not be the same type; consequently, ``u'ab' in\n",
        "'abc'`` will return ``True``. Empty strings are always considered to\n",
        "be a substring of any other string, so ``\"\" in \"abc\"`` will return\n",
        "``True``.\n",
        "\n",
        "Changed in version 2.3: Previously, *x* was required to be a string of\n",
        "length ``1``.\n",
        "\n",
        "For user-defined classes which define the ``__contains__()`` method,\n",
        "``x in y`` is true if and only if ``y.__contains__(x)`` is true.\n",
        "\n",
        "For user-defined classes which do not define ``__contains__()`` but do\n",
        "define ``__iter__()``, ``x in y`` is true if some value ``z`` with ``x\n",
        "== z`` is produced while iterating over ``y``.  If an exception is\n",
        "raised during the iteration, it is as if ``in`` raised that exception.\n",
        "\n",
        "Lastly, the old-style iteration protocol is tried: if a class defines\n",
        "``__getitem__()``, ``x in y`` is true if and only if there is a non-\n",
        "negative integer index *i* such that ``x == y[i]``, and all lower\n",
        "integer indices do not raise ``IndexError`` exception. (If any other\n",
        "exception is raised, it is as if ``in`` raised that exception).\n",
        "\n",
        "The operator ``not in`` is defined to have the inverse true value of\n",
        "``in``.\n",
        "\n",
        "The operators ``is`` and ``is not`` test for object identity: ``x is\n",
        "y`` is true if and only if *x* and *y* are the same object.  ``x is\n",
        "not y`` yields the inverse truth value. [7]\n",
        "\n",
        "Related help topics: EXPRESSIONS, BASICMETHODS\n",
        "\n"
       ]
      }
     ],
     "prompt_number": 92
    },
    {
     "cell_type": "code",
     "collapsed": false,
     "input": [
      "string(reversed(ABC))"
     ],
     "language": "python",
     "metadata": {},
     "outputs": [
      {
       "ename": "NameError",
       "evalue": "name 'string' is not defined",
       "output_type": "pyerr",
       "traceback": [
        "\u001b[1;31m---------------------------------------------------------------------------\u001b[0m\n\u001b[1;31mNameError\u001b[0m                                 Traceback (most recent call last)",
        "\u001b[1;32m<ipython-input-95-fa6d3645d14e>\u001b[0m in \u001b[0;36m<module>\u001b[1;34m()\u001b[0m\n\u001b[1;32m----> 1\u001b[1;33m \u001b[0mstring\u001b[0m\u001b[1;33m(\u001b[0m\u001b[0mreversed\u001b[0m\u001b[1;33m(\u001b[0m\u001b[0mABC\u001b[0m\u001b[1;33m)\u001b[0m\u001b[1;33m)\u001b[0m\u001b[1;33m\u001b[0m\u001b[0m\n\u001b[0m",
        "\u001b[1;31mNameError\u001b[0m: name 'string' is not defined"
       ]
      }
     ],
     "prompt_number": 95
    },
    {
     "cell_type": "code",
     "collapsed": false,
     "input": [],
     "language": "python",
     "metadata": {},
     "outputs": []
    }
   ],
   "metadata": {}
  }
 ]
}