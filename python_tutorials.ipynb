{
 "metadata": {
  "name": "",
  "signature": "sha256:8ff235ab4e64cec1c6290d043c36da720445c7b24d9dad85a7b67755ad9aa365"
 },
 "nbformat": 3,
 "nbformat_minor": 0,
 "worksheets": [
  {
   "cells": [
    {
     "cell_type": "markdown",
     "metadata": {},
     "source": [
      "Tutorials from \n",
      "    - https://wiki.python.org/moin/BeginnersGuide/Programmers a source for tutorial sites\n",
      "    - http://hetland.org/writing/instant-python.html started with this but way simple, and poor examples    \n",
      "    - http://www.python-course.eu/execute_script.php then started this\n",
      "    - "
     ]
    },
    {
     "cell_type": "code",
     "collapsed": false,
     "input": [
      "\n",
      "\n"
     ],
     "language": "python",
     "metadata": {},
     "outputs": []
    },
    {
     "cell_type": "code",
     "collapsed": false,
     "input": [
      "# \n",
      "# http://hetland.org/writing/instant-python.html\n",
      "x,y,z=1,2,3\n",
      "print x\n",
      "print z\n",
      "\n",
      "first=\"fourth\"\n",
      "second = 'third'\n",
      "first,second = second,first\n",
      "\n",
      "print first, second"
     ],
     "language": "python",
     "metadata": {},
     "outputs": [
      {
       "output_type": "stream",
       "stream": "stdout",
       "text": [
        "1\n",
        "3\n",
        "third fourth\n"
       ]
      }
     ],
     "prompt_number": 11
    },
    {
     "cell_type": "code",
     "collapsed": false,
     "input": [
      "\n",
      "# mod from http://hetland.org/writing/instant-python.html\n",
      "def ffun(x):\n",
      "    if x < 5 or (x > 10 and x <20 ):\n",
      "        print  \"The value is OK.\"\n",
      "    else:\n",
      "        print \"The value is NOT ok.\"\n",
      "\n",
      "    if  x < 5 or 10 < x < 20:\n",
      "        print \"The value is OK.\""
     ],
     "language": "python",
     "metadata": {},
     "outputs": [],
     "prompt_number": 12
    },
    {
     "cell_type": "code",
     "collapsed": true,
     "input": [
      "\n",
      "# mod from http://hetland.org/writing/instant-python.html\n",
      "ii=0\n",
      "for i in [1,2,3,4,5,6,7,9]:\n",
      "    ii+=1\n",
      "    print \"This is iteration\", ii\n",
      "    print i\n",
      "    ffun(i)\n"
     ],
     "language": "python",
     "metadata": {},
     "outputs": [
      {
       "output_type": "stream",
       "stream": "stdout",
       "text": [
        "This is iteration 1\n",
        "1\n",
        "The value is OK.\n",
        "The value is OK.\n",
        "This is iteration 2\n",
        "2\n",
        "The value is OK.\n",
        "The value is OK.\n",
        "This is iteration 3\n",
        "3\n",
        "The value is OK.\n",
        "The value is OK.\n",
        "This is iteration 4\n",
        "4\n",
        "The value is OK.\n",
        "The value is OK.\n",
        "This is iteration 5\n",
        "5\n",
        "The value is NOT ok.\n",
        "This is iteration 6\n",
        "6\n",
        "The value is NOT ok.\n",
        "This is iteration 7\n",
        "7\n",
        "The value is NOT ok.\n",
        "This is iteration 8\n",
        "9\n",
        "The value is NOT ok.\n"
       ]
      }
     ],
     "prompt_number": 14
    },
    {
     "cell_type": "code",
     "collapsed": false,
     "input": [
      "3+2+1\n",
      "\n"
     ],
     "language": "python",
     "metadata": {},
     "outputs": [
      {
       "metadata": {},
       "output_type": "pyout",
       "prompt_number": 15,
       "text": [
        "6"
       ]
      }
     ],
     "prompt_number": 15
    },
    {
     "cell_type": "code",
     "collapsed": false,
     "input": [
      "_"
     ],
     "language": "python",
     "metadata": {},
     "outputs": []
    },
    {
     "cell_type": "code",
     "collapsed": false,
     "input": [
      "%run pwd\n",
      "\n"
     ],
     "language": "python",
     "metadata": {},
     "outputs": []
    },
    {
     "cell_type": "code",
     "collapsed": false,
     "input": [
      "ls"
     ],
     "language": "python",
     "metadata": {},
     "outputs": []
    },
    {
     "cell_type": "code",
     "collapsed": false,
     "input": [
      "# From http://www.python-course.eu/execute_script.php\n",
      "%run easy-to-write\n",
      "    "
     ],
     "language": "python",
     "metadata": {},
     "outputs": [
      {
       "output_type": "stream",
       "stream": "stdout",
       "text": [
        "It's easy to write a Python script!\n"
       ]
      }
     ],
     "prompt_number": 25
    },
    {
     "cell_type": "code",
     "collapsed": false,
     "input": [
      "import py_compile\n",
      "py_compile.compile('easy-to-write.py')"
     ],
     "language": "python",
     "metadata": {},
     "outputs": [],
     "prompt_number": 28
    },
    {
     "cell_type": "code",
     "collapsed": false,
     "input": [
      "id(x)"
     ],
     "language": "python",
     "metadata": {},
     "outputs": [
      {
       "metadata": {},
       "output_type": "pyout",
       "prompt_number": 34,
       "text": [
        "30309448L"
       ]
      }
     ],
     "prompt_number": 34
    },
    {
     "cell_type": "code",
     "collapsed": false,
     "input": [
      "print id(x)\n",
      "print type(x)\n",
      "!python --version"
     ],
     "language": "python",
     "metadata": {},
     "outputs": [
      {
       "output_type": "stream",
       "stream": "stdout",
       "text": [
        "30309448\n",
        "<type 'int'>\n"
       ]
      },
      {
       "output_type": "stream",
       "stream": "stderr",
       "text": [
        "Python 2.7.8 :: Continuum Analytics, Inc.\n"
       ]
      }
     ],
     "prompt_number": 33
    }
   ],
   "metadata": {}
  }
 ]
}