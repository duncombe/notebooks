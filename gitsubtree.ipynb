{
 "metadata": {
  "name": "",
  "signature": "sha256:8589e3f8202f1c27f5d01c02732ae09373267a5b1b70c87004e1b0de4b731999"
 },
 "nbformat": 3,
 "nbformat_minor": 0,
 "worksheets": [
  {
   "cells": [
    {
     "cell_type": "markdown",
     "metadata": {},
     "source": [
      "# Using `git subtree`\n",
      "\n",
      "The git `subtree` command is generating confusion. Can that be alleviated? \n"
     ]
    },
    {
     "cell_type": "code",
     "collapsed": false,
     "input": [
      "%%bash\n",
      "ls -l "
     ],
     "language": "python",
     "metadata": {},
     "outputs": [
      {
       "output_type": "stream",
       "stream": "stdout",
       "text": [
        "total 1\n",
        "-rw-r--r--    1 Christop Administ       63 Nov 14 07:55 README.md\n",
        "-rw-r--r--    1 Christop Administ      627 Nov 14 08:02 Untitled0.ipynb\n"
       ]
      }
     ],
     "prompt_number": 2
    },
    {
     "cell_type": "markdown",
     "metadata": {},
     "source": [
      "**Holy crap it worked!**\n",
      "\n"
     ]
    },
    {
     "cell_type": "code",
     "collapsed": false,
     "input": [
      "%%bash\n",
      "ls -l"
     ],
     "language": "python",
     "metadata": {},
     "outputs": [
      {
       "output_type": "stream",
       "stream": "stdout",
       "text": [
        "total 2\n",
        "-rw-r--r--    1 Christop Administ       63 Nov 14 07:55 README.md\n",
        "-rw-r--r--    1 Christop Administ     1610 Nov 14 08:06 gitsubtree.ipynb\n"
       ]
      }
     ],
     "prompt_number": 5
    },
    {
     "cell_type": "code",
     "collapsed": false,
     "input": [
      "%%bash\n",
      "git subtree --help -m"
     ],
     "language": "python",
     "metadata": {},
     "outputs": [
      {
       "output_type": "stream",
       "stream": "stderr",
       "text": [
        "warning: failed to exec 'man': No such file or directory\n",
        "fatal: no man viewer handled the request\n"
       ]
      }
     ],
     "prompt_number": 7
    },
    {
     "cell_type": "code",
     "collapsed": false,
     "input": [],
     "language": "python",
     "metadata": {},
     "outputs": []
    },
    {
     "cell_type": "code",
     "collapsed": false,
     "input": [],
     "language": "python",
     "metadata": {},
     "outputs": []
    },
    {
     "cell_type": "code",
     "collapsed": false,
     "input": [],
     "language": "python",
     "metadata": {},
     "outputs": []
    }
   ],
   "metadata": {}
  }
 ]
}