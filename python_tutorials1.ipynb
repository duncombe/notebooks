{
 "metadata": {
  "name": "",
  "signature": "sha256:002a8e1d807357043eb3d3af04c93ab9a6732c5bef3bdac911b451cc760946dd"
 },
 "nbformat": 3,
 "nbformat_minor": 0,
 "worksheets": [
  {
   "cells": [
    {
     "cell_type": "markdown",
     "metadata": {},
     "source": [
      "Tutorials from \n",
      "    - https://wiki.python.org/moin/BeginnersGuide/Programmers a source for tutorial sites\n",
      "    - http://hetland.org/writing/instant-python.html started with this but way simple, and poor examples    \n",
      "    - http://www.python-course.eu/execute_script.php then started this\n",
      "    - "
     ]
    },
    {
     "cell_type": "code",
     "collapsed": false,
     "input": [
      "\n",
      "\n"
     ],
     "language": "python",
     "metadata": {},
     "outputs": [],
     "prompt_number": 0
    },
    {
     "cell_type": "code",
     "collapsed": false,
     "input": [
      "# \n",
      "# http://hetland.org/writing/instant-python.html\n",
      "x,y,z=1,2,3\n",
      "print x\n",
      "print z\n",
      "\n",
      "first=\"fourth\"\n",
      "second = 'third'\n",
      "first,second = second,first\n",
      "\n",
      "print first, second"
     ],
     "language": "python",
     "metadata": {},
     "outputs": [
      {
       "output_type": "stream",
       "stream": "stdout",
       "text": [
        "1\n",
        "3\n",
        "third fourth\n"
       ]
      }
     ],
     "prompt_number": 1
    },
    {
     "cell_type": "code",
     "collapsed": false,
     "input": [
      "\n",
      "# mod from http://hetland.org/writing/instant-python.html\n",
      "def ffun(x):\n",
      "    if x < 5 or (x > 10 and x <20 ):\n",
      "        print  \"The value is OK.\"\n",
      "    else:\n",
      "        print \"The value is NOT ok.\"\n",
      "\n",
      "    if  x < 5 or 10 < x < 20:\n",
      "        print \"The value is OK.\""
     ],
     "language": "python",
     "metadata": {},
     "outputs": [],
     "prompt_number": 2
    },
    {
     "cell_type": "code",
     "collapsed": true,
     "input": [
      "\n",
      "# mod from http://hetland.org/writing/instant-python.html\n",
      "ii=0\n",
      "for i in [1,2,3,4,5,6,7,9]:\n",
      "    ii+=1\n",
      "    print \"This is iteration\", ii\n",
      "    print i\n",
      "    ffun(i)\n"
     ],
     "language": "python",
     "metadata": {},
     "outputs": [
      {
       "output_type": "stream",
       "stream": "stdout",
       "text": [
        "This is iteration 1\n",
        "1\n",
        "The value is OK.\n",
        "The value is OK.\n",
        "This is iteration 2\n",
        "2\n",
        "The value is OK.\n",
        "The value is OK.\n",
        "This is iteration 3\n",
        "3\n",
        "The value is OK.\n",
        "The value is OK.\n",
        "This is iteration 4\n",
        "4\n",
        "The value is OK.\n",
        "The value is OK.\n",
        "This is iteration 5\n",
        "5\n",
        "The value is NOT ok.\n",
        "This is iteration 6\n",
        "6\n",
        "The value is NOT ok.\n",
        "This is iteration 7\n",
        "7\n",
        "The value is NOT ok.\n",
        "This is iteration 8\n",
        "9\n",
        "The value is NOT ok.\n"
       ]
      }
     ],
     "prompt_number": 3
    },
    {
     "cell_type": "code",
     "collapsed": false,
     "input": [
      "3+2+1\n",
      "\n"
     ],
     "language": "python",
     "metadata": {},
     "outputs": [
      {
       "metadata": {},
       "output_type": "pyout",
       "prompt_number": 4,
       "text": [
        "6"
       ]
      }
     ],
     "prompt_number": 4
    },
    {
     "cell_type": "code",
     "collapsed": false,
     "input": [
      "_"
     ],
     "language": "python",
     "metadata": {},
     "outputs": [
      {
       "metadata": {},
       "output_type": "pyout",
       "prompt_number": 5,
       "text": [
        "6"
       ]
      }
     ],
     "prompt_number": 5
    },
    {
     "cell_type": "code",
     "collapsed": false,
     "input": [
      "# pwd works in a cell all by itself"
     ],
     "language": "python",
     "metadata": {},
     "outputs": [],
     "prompt_number": 6
    },
    {
     "cell_type": "code",
     "collapsed": false,
     "input": [
      "pwd"
     ],
     "language": "python",
     "metadata": {},
     "outputs": [
      {
       "metadata": {},
       "output_type": "pyout",
       "prompt_number": 7,
       "text": [
        "u'/data/duncombe/IOOS/notebooks'"
       ]
      }
     ],
     "prompt_number": 7
    },
    {
     "cell_type": "code",
     "collapsed": false,
     "input": [
      "# here it fail, where it is with something else\n",
      "pwd"
     ],
     "language": "python",
     "metadata": {},
     "outputs": [
      {
       "ename": "NameError",
       "evalue": "name 'pwd' is not defined",
       "output_type": "pyerr",
       "traceback": [
        "\u001b[1;31m---------------------------------------------------------------------------\u001b[0m\n\u001b[1;31mNameError\u001b[0m                                 Traceback (most recent call last)",
        "\u001b[1;32m<ipython-input-8-bd1888f8e59e>\u001b[0m in \u001b[0;36m<module>\u001b[1;34m()\u001b[0m\n\u001b[0;32m      1\u001b[0m \u001b[1;31m# here it fail, where it is with something else\u001b[0m\u001b[1;33m\u001b[0m\u001b[1;33m\u001b[0m\u001b[0m\n\u001b[1;32m----> 2\u001b[1;33m \u001b[0mpwd\u001b[0m\u001b[1;33m\u001b[0m\u001b[0m\n\u001b[0m",
        "\u001b[1;31mNameError\u001b[0m: name 'pwd' is not defined"
       ]
      }
     ],
     "prompt_number": 8
    },
    {
     "cell_type": "code",
     "collapsed": false,
     "input": [
      "# here it work\n",
      "%pwd"
     ],
     "language": "python",
     "metadata": {},
     "outputs": [
      {
       "metadata": {},
       "output_type": "pyout",
       "prompt_number": 9,
       "text": [
        "u'/data/duncombe/IOOS/notebooks'"
       ]
      }
     ],
     "prompt_number": 9
    },
    {
     "cell_type": "code",
     "collapsed": false,
     "input": [
      "# ls is the same deal\n",
      "%ls"
     ],
     "language": "python",
     "metadata": {},
     "outputs": [
      {
       "output_type": "stream",
       "stream": "stdout",
       "text": [
        "README.md         easy-to-write.pyc       python_tutorials.ipynb\r\n",
        "\u001b[0m\u001b[01;32mbadrunnotebook\u001b[0m*   gitsubtree.ipynb        \u001b[01;32mrunnotebook\u001b[0m*\r\n",
        "easy-to-write.py  linux-requirements.txt  windows-requirements.txt\r\n",
        "\u001b[m"
       ]
      }
     ],
     "prompt_number": 10
    },
    {
     "cell_type": "code",
     "collapsed": false,
     "input": [
      "# for unix system, this looks better\n",
      "%ls -1"
     ],
     "language": "python",
     "metadata": {},
     "outputs": [
      {
       "output_type": "stream",
       "stream": "stdout",
       "text": [
        "README.md\r\n",
        "\u001b[0m\u001b[01;32mbadrunnotebook\u001b[0m*\r\n",
        "easy-to-write.py\r\n",
        "easy-to-write.pyc\r\n",
        "gitsubtree.ipynb\r\n",
        "linux-requirements.txt\r\n",
        "python_tutorials.ipynb\r\n",
        "\u001b[01;32mrunnotebook\u001b[0m*\r\n",
        "windows-requirements.txt\r\n",
        "\u001b[m"
       ]
      }
     ],
     "prompt_number": 11
    },
    {
     "cell_type": "code",
     "collapsed": false,
     "input": [
      "# From http://www.python-course.eu/execute_script.php\n",
      "%run easy-to-write\n",
      "    "
     ],
     "language": "python",
     "metadata": {},
     "outputs": [
      {
       "output_type": "stream",
       "stream": "stdout",
       "text": [
        "It's easy to write a Python script!\n"
       ]
      }
     ],
     "prompt_number": 12
    },
    {
     "cell_type": "code",
     "collapsed": false,
     "input": [
      "import py_compile\n",
      "py_compile.compile('easy-to-write.py')"
     ],
     "language": "python",
     "metadata": {},
     "outputs": [],
     "prompt_number": 13
    },
    {
     "cell_type": "code",
     "collapsed": false,
     "input": [
      "id(x)"
     ],
     "language": "python",
     "metadata": {},
     "outputs": [
      {
       "metadata": {},
       "output_type": "pyout",
       "prompt_number": 14,
       "text": [
        "29270424"
       ]
      }
     ],
     "prompt_number": 14
    },
    {
     "cell_type": "code",
     "collapsed": false,
     "input": [
      "print id(x)\n",
      "print type(x)\n",
      "!python --version"
     ],
     "language": "python",
     "metadata": {},
     "outputs": [
      {
       "output_type": "stream",
       "stream": "stdout",
       "text": [
        "29270424\n",
        "<type 'int'>\n",
        "Python 2.7.9 :: Continuum Analytics, Inc.\r\n"
       ]
      }
     ],
     "prompt_number": 15
    },
    {
     "cell_type": "code",
     "collapsed": false,
     "input": [
      "x=3 \n",
      "print id(x)\n",
      "y=x\n",
      "print id(y)\n",
      "y=2\n",
      "print id(y)\n",
      "print id(x)"
     ],
     "language": "python",
     "metadata": {},
     "outputs": [
      {
       "output_type": "stream",
       "stream": "stdout",
       "text": [
        "29270376\n",
        "29270376\n",
        "29270400\n",
        "29270376\n"
       ]
      }
     ],
     "prompt_number": 16
    },
    {
     "cell_type": "code",
     "collapsed": false,
     "input": [
      "print bin(7723)\n",
      "print 07723 # octal\n",
      "print 7723  # decimal\n",
      "print 0x7723 # hexadecimal\n",
      "print 98713459076123456769076132450971904579001L*0x183476779879018734AB37541DE3L\n",
      "print 0b11010001010100110001011010001010101011111010101011011111001111111111111111111111111100000111110101000101010010011010010001111\n",
      "print int('ab1235cd125sqwere456fg',36)\n",
      "print int('z',36), int('10',36), int('11',36)\n",
      "print int('A',36)\n"
     ],
     "language": "python",
     "metadata": {},
     "outputs": [
      {
       "output_type": "stream",
       "stream": "stdout",
       "text": [
        "0b1111000101011\n",
        "4051\n",
        "7723\n",
        "30499\n",
        "48461828731703307478061845238966274936576171859734197123656755051376031755\n",
        "34780008619896245476459847390398592143\n",
        "4959733324114973510602912093789132\n",
        "35 36 37\n",
        "10\n"
       ]
      }
     ],
     "prompt_number": 17
    },
    {
     "cell_type": "code",
     "collapsed": false,
     "input": [
      "def base36encode(number, alphabet='0123456789ABCDEFGHIJKLMNOPQRSTUVWXYZ'):\n",
      "    \"\"\"Converts an integer to a base36 string.\"\"\"\n",
      "    if not isinstance(number, (int, long)):\n",
      "        raise TypeError('number must be an integer')\n",
      "\n",
      "    base36 = ''\n",
      "    sign = ''\n",
      "\n",
      "    if number < 0:\n",
      "        sign = '-'\n",
      "        number = -number\n",
      "\n",
      "    if 0 <= number < len(alphabet):\n",
      "        return sign + alphabet[number]\n",
      "\n",
      "    while number != 0:\n",
      "        number, i = divmod(number, len(alphabet))\n",
      "        base36 = alphabet[i] + base36\n",
      "\n",
      "    return sign + base36\n",
      "\n",
      "def base36decode(number):\n",
      "    return int(number, 36)\n",
      "\n",
      "print base36encode(1412823931503067241)\n",
      "print base36decode('AQF8AA0006EH')"
     ],
     "language": "python",
     "metadata": {},
     "outputs": [
      {
       "output_type": "stream",
       "stream": "stdout",
       "text": [
        "AQF8AA0006EH\n",
        "1412823931503067241\n"
       ]
      }
     ],
     "prompt_number": 18
    },
    {
     "cell_type": "code",
     "collapsed": false,
     "input": [
      "import sys\n",
      "print sys.maxint\n",
      "sys.platform"
     ],
     "language": "python",
     "metadata": {},
     "outputs": [
      {
       "output_type": "stream",
       "stream": "stdout",
       "text": [
        "9223372036854775807\n"
       ]
      },
      {
       "metadata": {},
       "output_type": "pyout",
       "prompt_number": 19,
       "text": [
        "'linux2'"
       ]
      }
     ],
     "prompt_number": 19
    },
    {
     "cell_type": "code",
     "collapsed": false,
     "input": [
      "# Want a maximum number? Try:\n",
      "Bignum=float(\"inf\")\n",
      "print Bignum"
     ],
     "language": "python",
     "metadata": {},
     "outputs": [
      {
       "output_type": "stream",
       "stream": "stdout",
       "text": [
        "inf\n"
       ]
      }
     ],
     "prompt_number": 4
    },
    {
     "cell_type": "code",
     "collapsed": false,
     "input": [
      "ABC=\"worthless scum\"\n",
      "ABC[-3:]"
     ],
     "language": "python",
     "metadata": {},
     "outputs": [
      {
       "metadata": {},
       "output_type": "pyout",
       "prompt_number": 20,
       "text": [
        "'cum'"
       ]
      }
     ],
     "prompt_number": 20
    },
    {
     "cell_type": "code",
     "collapsed": false,
     "input": [
      "DEF=[\"pervert\", ' ', \"stinking\"]\n",
      "print 1, DEF[::-1]\n",
      "\n",
      "FED=list(reversed(DEF))\n",
      "print 2, FED\n",
      "for i in FED: \n",
      "    print i\n",
      "\n",
      "print 3, [i for i in FED]\n",
      "\n",
      "print 4, ''.join(FED)\n",
      "\n",
      "print 5, 'filthy', ''.join(FED)\n"
     ],
     "language": "python",
     "metadata": {},
     "outputs": [
      {
       "output_type": "stream",
       "stream": "stdout",
       "text": [
        "1 ['stinking', ' ', 'pervert']\n",
        "2 ['stinking', ' ', 'pervert']\n",
        "stinking\n",
        " \n",
        "pervert\n",
        "3 ['stinking', ' ', 'pervert']\n",
        "4 stinking pervert\n",
        "5 filthy stinking pervert\n"
       ]
      }
     ],
     "prompt_number": 21
    },
    {
     "cell_type": "code",
     "collapsed": true,
     "input": [
      "help('is')"
     ],
     "language": "python",
     "metadata": {},
     "outputs": [
      {
       "output_type": "stream",
       "stream": "stdout",
       "text": [
        "Comparisons\n",
        "***********\n",
        "\n",
        "Unlike C, all comparison operations in Python have the same priority,\n",
        "which is lower than that of any arithmetic, shifting or bitwise\n",
        "operation.  Also unlike C, expressions like \"a < b < c\" have the\n",
        "interpretation that is conventional in mathematics:\n",
        "\n",
        "   comparison    ::= or_expr ( comp_operator or_expr )*\n",
        "   comp_operator ::= \"<\" | \">\" | \"==\" | \">=\" | \"<=\" | \"<>\" | \"!=\"\n",
        "                     | \"is\" [\"not\"] | [\"not\"] \"in\"\n",
        "\n",
        "Comparisons yield boolean values: \"True\" or \"False\".\n",
        "\n",
        "Comparisons can be chained arbitrarily, e.g., \"x < y <= z\" is\n",
        "equivalent to \"x < y and y <= z\", except that \"y\" is evaluated only\n",
        "once (but in both cases \"z\" is not evaluated at all when \"x < y\" is\n",
        "found to be false).\n",
        "\n",
        "Formally, if *a*, *b*, *c*, ..., *y*, *z* are expressions and *op1*,\n",
        "*op2*, ..., *opN* are comparison operators, then \"a op1 b op2 c ... y\n",
        "opN z\" is equivalent to \"a op1 b and b op2 c and ... y opN z\", except\n",
        "that each expression is evaluated at most once.\n",
        "\n",
        "Note that \"a op1 b op2 c\" doesn't imply any kind of comparison between\n",
        "*a* and *c*, so that, e.g., \"x < y > z\" is perfectly legal (though\n",
        "perhaps not pretty).\n",
        "\n",
        "The forms \"<>\" and \"!=\" are equivalent; for consistency with C, \"!=\"\n",
        "is preferred; where \"!=\" is mentioned below \"<>\" is also accepted.\n",
        "The \"<>\" spelling is considered obsolescent.\n",
        "\n",
        "The operators \"<\", \">\", \"==\", \">=\", \"<=\", and \"!=\" compare the values\n",
        "of two objects.  The objects need not have the same type. If both are\n",
        "numbers, they are converted to a common type.  Otherwise, objects of\n",
        "different types *always* compare unequal, and are ordered consistently\n",
        "but arbitrarily. You can control comparison behavior of objects of\n",
        "non-built-in types by defining a \"__cmp__\" method or rich comparison\n",
        "methods like \"__gt__\", described in section *Special method names*.\n",
        "\n",
        "(This unusual definition of comparison was used to simplify the\n",
        "definition of operations like sorting and the \"in\" and \"not in\"\n",
        "operators. In the future, the comparison rules for objects of\n",
        "different types are likely to change.)\n",
        "\n",
        "Comparison of objects of the same type depends on the type:\n",
        "\n",
        "* Numbers are compared arithmetically.\n",
        "\n",
        "* Strings are compared lexicographically using the numeric\n",
        "  equivalents (the result of the built-in function \"ord()\") of their\n",
        "  characters. Unicode and 8-bit strings are fully interoperable in\n",
        "  this behavior. [4]\n",
        "\n",
        "* Tuples and lists are compared lexicographically using comparison\n",
        "  of corresponding elements.  This means that to compare equal, each\n",
        "  element must compare equal and the two sequences must be of the same\n",
        "  type and have the same length.\n",
        "\n",
        "  If not equal, the sequences are ordered the same as their first\n",
        "  differing elements.  For example, \"cmp([1,2,x], [1,2,y])\" returns\n",
        "  the same as \"cmp(x,y)\".  If the corresponding element does not\n",
        "  exist, the shorter sequence is ordered first (for example, \"[1,2] <\n",
        "  [1,2,3]\").\n",
        "\n",
        "* Mappings (dictionaries) compare equal if and only if their sorted\n",
        "  (key, value) lists compare equal. [5] Outcomes other than equality\n",
        "  are resolved consistently, but are not otherwise defined. [6]\n",
        "\n",
        "* Most other objects of built-in types compare unequal unless they\n",
        "  are the same object; the choice whether one object is considered\n",
        "  smaller or larger than another one is made arbitrarily but\n",
        "  consistently within one execution of a program.\n",
        "\n",
        "The operators \"in\" and \"not in\" test for collection membership.  \"x in\n",
        "s\" evaluates to true if *x* is a member of the collection *s*, and\n",
        "false otherwise.  \"x not in s\" returns the negation of \"x in s\". The\n",
        "collection membership test has traditionally been bound to sequences;\n",
        "an object is a member of a collection if the collection is a sequence\n",
        "and contains an element equal to that object.  However, it make sense\n",
        "for many other object types to support membership tests without being\n",
        "a sequence.  In particular, dictionaries (for keys) and sets support\n",
        "membership testing.\n",
        "\n",
        "For the list and tuple types, \"x in y\" is true if and only if there\n",
        "exists an index *i* such that \"x == y[i]\" is true.\n",
        "\n",
        "For the Unicode and string types, \"x in y\" is true if and only if *x*\n",
        "is a substring of *y*.  An equivalent test is \"y.find(x) != -1\".\n",
        "Note, *x* and *y* need not be the same type; consequently, \"u'ab' in\n",
        "'abc'\" will return \"True\". Empty strings are always considered to be a\n",
        "substring of any other string, so \"\"\" in \"abc\"\" will return \"True\".\n",
        "\n",
        "Changed in version 2.3: Previously, *x* was required to be a string of\n",
        "length \"1\".\n",
        "\n",
        "For user-defined classes which define the \"__contains__()\" method, \"x\n",
        "in y\" is true if and only if \"y.__contains__(x)\" is true.\n",
        "\n",
        "For user-defined classes which do not define \"__contains__()\" but do\n",
        "define \"__iter__()\", \"x in y\" is true if some value \"z\" with \"x == z\"\n",
        "is produced while iterating over \"y\".  If an exception is raised\n",
        "during the iteration, it is as if \"in\" raised that exception.\n",
        "\n",
        "Lastly, the old-style iteration protocol is tried: if a class defines\n",
        "\"__getitem__()\", \"x in y\" is true if and only if there is a non-\n",
        "negative integer index *i* such that \"x == y[i]\", and all lower\n",
        "integer indices do not raise \"IndexError\" exception. (If any other\n",
        "exception is raised, it is as if \"in\" raised that exception).\n",
        "\n",
        "The operator \"not in\" is defined to have the inverse true value of\n",
        "\"in\".\n",
        "\n",
        "The operators \"is\" and \"is not\" test for object identity: \"x is y\" is\n",
        "true if and only if *x* and *y* are the same object.  \"x is not y\"\n",
        "yields the inverse truth value. [7]\n",
        "\n",
        "Related help topics: EXPRESSIONS, BASICMETHODS\n",
        "\n"
       ]
      }
     ],
     "prompt_number": 22
    },
    {
     "cell_type": "code",
     "collapsed": false,
     "input": [
      "i=42\n",
      "print i, type(i)\n",
      "i=i+1\n",
      "print i, type(i)\n",
      "i=i+0.11\n",
      "print i, type(i)"
     ],
     "language": "python",
     "metadata": {},
     "outputs": [
      {
       "output_type": "stream",
       "stream": "stdout",
       "text": [
        "42 <type 'int'>\n",
        "43 <type 'int'>\n",
        "43.11 <type 'float'>\n"
       ]
      }
     ],
     "prompt_number": 23
    },
    {
     "cell_type": "code",
     "collapsed": false,
     "input": [
      "# +, -\n",
      "# *, /, %\n",
      "# // floor division\n",
      "\n",
      "print i//1\n",
      "print (i//1)%2"
     ],
     "language": "python",
     "metadata": {},
     "outputs": [
      {
       "output_type": "stream",
       "stream": "stdout",
       "text": [
        "43.0\n",
        "1.0\n"
       ]
      }
     ],
     "prompt_number": 24
    },
    {
     "cell_type": "code",
     "collapsed": false,
     "input": [
      "name = input(\"Name?\")\n",
      "print(\"Helluo, Nauta \"+name )"
     ],
     "language": "python",
     "metadata": {},
     "outputs": [
      {
       "name": "stdout",
       "output_type": "stream",
       "stream": "stdout",
       "text": [
        "Name?jakldfgj\n"
       ]
      },
      {
       "ename": "NameError",
       "evalue": "name 'jakldfgj' is not defined",
       "output_type": "pyerr",
       "traceback": [
        "\u001b[1;31m---------------------------------------------------------------------------\u001b[0m\n\u001b[1;31mNameError\u001b[0m                                 Traceback (most recent call last)",
        "\u001b[1;32m<ipython-input-29-7fc2680a9927>\u001b[0m in \u001b[0;36m<module>\u001b[1;34m()\u001b[0m\n\u001b[1;32m----> 1\u001b[1;33m \u001b[0mname\u001b[0m \u001b[1;33m=\u001b[0m \u001b[0minput\u001b[0m\u001b[1;33m(\u001b[0m\u001b[1;34m\"Name?\"\u001b[0m\u001b[1;33m)\u001b[0m\u001b[1;33m\u001b[0m\u001b[0m\n\u001b[0m\u001b[0;32m      2\u001b[0m \u001b[1;32mprint\u001b[0m\u001b[1;33m(\u001b[0m\u001b[1;34m\"Helluo, Nauta \"\u001b[0m\u001b[1;33m+\u001b[0m\u001b[0mname\u001b[0m \u001b[1;33m)\u001b[0m\u001b[1;33m\u001b[0m\u001b[0m\n",
        "\u001b[1;32m/home/cduncomberae/anaconda/envs/notebooks/lib/python2.7/site-packages/IPython/kernel/zmq/ipkernel.pyc\u001b[0m in \u001b[0;36m<lambda>\u001b[1;34m(prompt)\u001b[0m\n\u001b[0;32m    362\u001b[0m         \u001b[1;32mif\u001b[0m \u001b[0mcontent\u001b[0m\u001b[1;33m.\u001b[0m\u001b[0mget\u001b[0m\u001b[1;33m(\u001b[0m\u001b[1;34m'allow_stdin'\u001b[0m\u001b[1;33m,\u001b[0m \u001b[0mFalse\u001b[0m\u001b[1;33m)\u001b[0m\u001b[1;33m:\u001b[0m\u001b[1;33m\u001b[0m\u001b[0m\n\u001b[0;32m    363\u001b[0m             \u001b[0mraw_input\u001b[0m \u001b[1;33m=\u001b[0m \u001b[1;32mlambda\u001b[0m \u001b[0mprompt\u001b[0m\u001b[1;33m=\u001b[0m\u001b[1;34m''\u001b[0m\u001b[1;33m:\u001b[0m \u001b[0mself\u001b[0m\u001b[1;33m.\u001b[0m\u001b[0m_raw_input\u001b[0m\u001b[1;33m(\u001b[0m\u001b[0mprompt\u001b[0m\u001b[1;33m,\u001b[0m \u001b[0mident\u001b[0m\u001b[1;33m,\u001b[0m \u001b[0mparent\u001b[0m\u001b[1;33m)\u001b[0m\u001b[1;33m\u001b[0m\u001b[0m\n\u001b[1;32m--> 364\u001b[1;33m             \u001b[0minput\u001b[0m \u001b[1;33m=\u001b[0m \u001b[1;32mlambda\u001b[0m \u001b[0mprompt\u001b[0m\u001b[1;33m=\u001b[0m\u001b[1;34m''\u001b[0m\u001b[1;33m:\u001b[0m \u001b[0meval\u001b[0m\u001b[1;33m(\u001b[0m\u001b[0mraw_input\u001b[0m\u001b[1;33m(\u001b[0m\u001b[0mprompt\u001b[0m\u001b[1;33m)\u001b[0m\u001b[1;33m)\u001b[0m\u001b[1;33m\u001b[0m\u001b[0m\n\u001b[0m\u001b[0;32m    365\u001b[0m         \u001b[1;32melse\u001b[0m\u001b[1;33m:\u001b[0m\u001b[1;33m\u001b[0m\u001b[0m\n\u001b[0;32m    366\u001b[0m             \u001b[0mraw_input\u001b[0m \u001b[1;33m=\u001b[0m \u001b[0minput\u001b[0m \u001b[1;33m=\u001b[0m \u001b[1;32mlambda\u001b[0m \u001b[0mprompt\u001b[0m\u001b[1;33m=\u001b[0m\u001b[1;34m''\u001b[0m \u001b[1;33m:\u001b[0m \u001b[0mself\u001b[0m\u001b[1;33m.\u001b[0m\u001b[0m_no_raw_input\u001b[0m\u001b[1;33m(\u001b[0m\u001b[1;33m)\u001b[0m\u001b[1;33m\u001b[0m\u001b[0m\n",
        "\u001b[1;32m/home/cduncomberae/anaconda/envs/notebooks/lib/python2.7/site-packages/IPython/kernel/zmq/ipkernel.pyc\u001b[0m in \u001b[0;36m<module>\u001b[1;34m()\u001b[0m\n",
        "\u001b[1;31mNameError\u001b[0m: name 'jakldfgj' is not defined"
       ]
      }
     ],
     "prompt_number": 29
    },
    {
     "cell_type": "code",
     "collapsed": false,
     "input": [
      "print name\n"
     ],
     "language": "python",
     "metadata": {},
     "outputs": [
      {
       "ename": "NameError",
       "evalue": "name 'name' is not defined",
       "output_type": "pyerr",
       "traceback": [
        "\u001b[1;31m---------------------------------------------------------------------------\u001b[0m\n\u001b[1;31mNameError\u001b[0m                                 Traceback (most recent call last)",
        "\u001b[1;32m<ipython-input-30-2e5da873a229>\u001b[0m in \u001b[0;36m<module>\u001b[1;34m()\u001b[0m\n\u001b[1;32m----> 1\u001b[1;33m \u001b[1;32mprint\u001b[0m \u001b[0mname\u001b[0m\u001b[1;33m\u001b[0m\u001b[0m\n\u001b[0m",
        "\u001b[1;31mNameError\u001b[0m: name 'name' is not defined"
       ]
      }
     ],
     "prompt_number": 30
    },
    {
     "cell_type": "code",
     "collapsed": false,
     "input": [
      "name=raw_input(\"Name? \")\n",
      "print(\"Helluo, Nauta \"+name )\n"
     ],
     "language": "python",
     "metadata": {},
     "outputs": [
      {
       "name": "stdout",
       "output_type": "stream",
       "stream": "stdout",
       "text": [
        "Name? jadfj\n"
       ]
      },
      {
       "output_type": "stream",
       "stream": "stdout",
       "text": [
        "Helluo, Nauta jadfj\n"
       ]
      }
     ],
     "prompt_number": 32
    },
    {
     "cell_type": "code",
     "collapsed": false,
     "input": [
      "true"
     ],
     "language": "python",
     "metadata": {},
     "outputs": [
      {
       "ename": "NameError",
       "evalue": "name 'true' is not defined",
       "output_type": "pyerr",
       "traceback": [
        "\u001b[1;31m---------------------------------------------------------------------------\u001b[0m\n\u001b[1;31mNameError\u001b[0m                                 Traceback (most recent call last)",
        "\u001b[1;32m<ipython-input-33-74d9a83219ca>\u001b[0m in \u001b[0;36m<module>\u001b[1;34m()\u001b[0m\n\u001b[1;32m----> 1\u001b[1;33m \u001b[0mtrue\u001b[0m\u001b[1;33m\u001b[0m\u001b[0m\n\u001b[0m",
        "\u001b[1;31mNameError\u001b[0m: name 'true' is not defined"
       ]
      }
     ],
     "prompt_number": 33
    },
    {
     "cell_type": "code",
     "collapsed": false,
     "input": [
      "True"
     ],
     "language": "python",
     "metadata": {},
     "outputs": [
      {
       "metadata": {},
       "output_type": "pyout",
       "prompt_number": 33,
       "text": [
        "True"
       ]
      }
     ],
     "prompt_number": 33
    },
    {
     "cell_type": "code",
     "collapsed": false,
     "input": [
      "# This is an awk thing (also C): \n",
      "# mx=(a>b)?a:b; In python\n",
      "a=1\n",
      "b=2\n",
      "mx = a if (a>b) else b;\n",
      "\n",
      "print mx\n",
      "    "
     ],
     "language": "python",
     "metadata": {},
     "outputs": [
      {
       "output_type": "stream",
       "stream": "stdout",
       "text": [
        "2\n"
       ]
      }
     ],
     "prompt_number": 34
    },
    {
     "cell_type": "code",
     "collapsed": false,
     "input": [
      "# help('max')\n",
      "\n",
      "print max(a,b)\n"
     ],
     "language": "python",
     "metadata": {},
     "outputs": [
      {
       "output_type": "stream",
       "stream": "stdout",
       "text": [
        "2\n"
       ]
      }
     ],
     "prompt_number": 35
    },
    {
     "cell_type": "code",
     "collapsed": false,
     "input": [
      "\"\"\" Looks like this is a comment ? \"\"\" \n",
      "\n",
      "\"\"\" No, this is just string constants, and the tutorial thing is just using it to write a title! \"\"\""
     ],
     "language": "python",
     "metadata": {},
     "outputs": [
      {
       "metadata": {},
       "output_type": "pyout",
       "prompt_number": 36,
       "text": [
        "' No, this is just string constants, and the tutorial thing is just using it to write a title! '"
       ]
      }
     ],
     "prompt_number": 36
    },
    {
     "cell_type": "code",
     "collapsed": false,
     "input": [
      "import random\n",
      "\n",
      "s=[]\n",
      "\n",
      "s= [random.random() for i in range(301234)]"
     ],
     "language": "python",
     "metadata": {},
     "outputs": [],
     "prompt_number": 37
    },
    {
     "cell_type": "code",
     "collapsed": false,
     "input": [
      "Smax=-float(\"inf\")\n",
      "Smin=float(\"inf\")\n",
      "for i in s:\n",
      "    Smax=i if (i>Smax) else Smax\n",
      "    Smin=i if (i<Smin) else Smin\n",
      "print Smax, Smin"
     ],
     "language": "python",
     "metadata": {},
     "outputs": [
      {
       "output_type": "stream",
       "stream": "stdout",
       "text": [
        "0.999981644649 7.01951050219e-06\n"
       ]
      }
     ],
     "prompt_number": 38
    },
    {
     "cell_type": "code",
     "collapsed": false,
     "input": [
      "import matplotlib.pyplot\n",
      "\n",
      "plot(s)"
     ],
     "language": "python",
     "metadata": {},
     "outputs": [
      {
       "ename": "ImportError",
       "evalue": "No module named transforms",
       "output_type": "pyerr",
       "traceback": [
        "\u001b[1;31m---------------------------------------------------------------------------\u001b[0m\n\u001b[1;31mImportError\u001b[0m                               Traceback (most recent call last)",
        "\u001b[1;32m<ipython-input-43-5ac7b6871c13>\u001b[0m in \u001b[0;36m<module>\u001b[1;34m()\u001b[0m\n\u001b[1;32m----> 1\u001b[1;33m \u001b[1;32mimport\u001b[0m \u001b[0mmatplotlib\u001b[0m\u001b[1;33m.\u001b[0m\u001b[0mpyplot\u001b[0m\u001b[1;33m\u001b[0m\u001b[0m\n\u001b[0m\u001b[0;32m      2\u001b[0m \u001b[1;33m\u001b[0m\u001b[0m\n\u001b[0;32m      3\u001b[0m \u001b[0mplot\u001b[0m\u001b[1;33m(\u001b[0m\u001b[0ms\u001b[0m\u001b[1;33m)\u001b[0m\u001b[1;33m\u001b[0m\u001b[0m\n",
        "\u001b[1;32m/home/cduncomberae/anaconda/envs/notebooks/lib/python2.7/site-packages/matplotlib/pyplot.py\u001b[0m in \u001b[0;36m<module>\u001b[1;34m()\u001b[0m\n\u001b[0;32m     25\u001b[0m \u001b[1;33m\u001b[0m\u001b[0m\n\u001b[0;32m     26\u001b[0m \u001b[1;32mimport\u001b[0m \u001b[0mmatplotlib\u001b[0m\u001b[1;33m\u001b[0m\u001b[0m\n\u001b[1;32m---> 27\u001b[1;33m \u001b[1;32mimport\u001b[0m \u001b[0mmatplotlib\u001b[0m\u001b[1;33m.\u001b[0m\u001b[0mcolorbar\u001b[0m\u001b[1;33m\u001b[0m\u001b[0m\n\u001b[0m\u001b[0;32m     28\u001b[0m \u001b[1;32mfrom\u001b[0m \u001b[0mmatplotlib\u001b[0m \u001b[1;32mimport\u001b[0m \u001b[0mstyle\u001b[0m\u001b[1;33m\u001b[0m\u001b[0m\n\u001b[0;32m     29\u001b[0m \u001b[1;32mfrom\u001b[0m \u001b[0mmatplotlib\u001b[0m \u001b[1;32mimport\u001b[0m \u001b[0m_pylab_helpers\u001b[0m\u001b[1;33m,\u001b[0m \u001b[0minteractive\u001b[0m\u001b[1;33m\u001b[0m\u001b[0m\n",
        "\u001b[1;32m/home/cduncomberae/anaconda/envs/notebooks/lib/python2.7/site-packages/matplotlib/colorbar.py\u001b[0m in \u001b[0;36m<module>\u001b[1;34m()\u001b[0m\n\u001b[0;32m     30\u001b[0m \u001b[1;33m\u001b[0m\u001b[0m\n\u001b[0;32m     31\u001b[0m \u001b[1;32mimport\u001b[0m \u001b[0mmatplotlib\u001b[0m \u001b[1;32mas\u001b[0m \u001b[0mmpl\u001b[0m\u001b[1;33m\u001b[0m\u001b[0m\n\u001b[1;32m---> 32\u001b[1;33m \u001b[1;32mimport\u001b[0m \u001b[0mmatplotlib\u001b[0m\u001b[1;33m.\u001b[0m\u001b[0martist\u001b[0m \u001b[1;32mas\u001b[0m \u001b[0mmartist\u001b[0m\u001b[1;33m\u001b[0m\u001b[0m\n\u001b[0m\u001b[0;32m     33\u001b[0m \u001b[1;32mimport\u001b[0m \u001b[0mmatplotlib\u001b[0m\u001b[1;33m.\u001b[0m\u001b[0mcbook\u001b[0m \u001b[1;32mas\u001b[0m \u001b[0mcbook\u001b[0m\u001b[1;33m\u001b[0m\u001b[0m\n\u001b[0;32m     34\u001b[0m \u001b[1;32mimport\u001b[0m \u001b[0mmatplotlib\u001b[0m\u001b[1;33m.\u001b[0m\u001b[0mcollections\u001b[0m \u001b[1;32mas\u001b[0m \u001b[0mcollections\u001b[0m\u001b[1;33m\u001b[0m\u001b[0m\n",
        "\u001b[1;32m/home/cduncomberae/anaconda/envs/notebooks/lib/python2.7/site-packages/matplotlib/artist.py\u001b[0m in \u001b[0;36m<module>\u001b[1;34m()\u001b[0m\n\u001b[0;32m     10\u001b[0m \u001b[1;32mimport\u001b[0m \u001b[0mmatplotlib\u001b[0m\u001b[1;33m.\u001b[0m\u001b[0mcbook\u001b[0m \u001b[1;32mas\u001b[0m \u001b[0mcbook\u001b[0m\u001b[1;33m\u001b[0m\u001b[0m\n\u001b[0;32m     11\u001b[0m \u001b[1;32mfrom\u001b[0m \u001b[0mmatplotlib\u001b[0m \u001b[1;32mimport\u001b[0m \u001b[0mdocstring\u001b[0m\u001b[1;33m,\u001b[0m \u001b[0mrcParams\u001b[0m\u001b[1;33m\u001b[0m\u001b[0m\n\u001b[1;32m---> 12\u001b[1;33m \u001b[1;32mfrom\u001b[0m \u001b[1;33m.\u001b[0m\u001b[0mtransforms\u001b[0m \u001b[1;32mimport\u001b[0m \u001b[0mBbox\u001b[0m\u001b[1;33m,\u001b[0m \u001b[0mIdentityTransform\u001b[0m\u001b[1;33m,\u001b[0m \u001b[0mTransformedBbox\u001b[0m\u001b[1;33m,\u001b[0m\u001b[0;31m \u001b[0m\u001b[0;31m\\\u001b[0m\u001b[1;33m\u001b[0m\u001b[0m\n\u001b[0m\u001b[0;32m     13\u001b[0m                        \u001b[0mTransformedPath\u001b[0m\u001b[1;33m,\u001b[0m \u001b[0mTransform\u001b[0m\u001b[1;33m\u001b[0m\u001b[0m\n\u001b[0;32m     14\u001b[0m \u001b[1;32mfrom\u001b[0m \u001b[1;33m.\u001b[0m\u001b[0mpath\u001b[0m \u001b[1;32mimport\u001b[0m \u001b[0mPath\u001b[0m\u001b[1;33m\u001b[0m\u001b[0m\n",
        "\u001b[1;31mImportError\u001b[0m: No module named transforms"
       ]
      }
     ],
     "prompt_number": 43
    },
    {
     "cell_type": "code",
     "collapsed": false,
     "input": [
      "help(\"matplotlib\")\n"
     ],
     "language": "python",
     "metadata": {},
     "outputs": [
      {
       "output_type": "stream",
       "stream": "stdout",
       "text": [
        "Help on package matplotlib:\n",
        "\n",
        "NAME\n",
        "    matplotlib - This is an object-oriented plotting library.\n",
        "\n",
        "FILE\n",
        "    /home/cduncomberae/anaconda/envs/notebooks/lib/python2.7/site-packages/matplotlib/__init__.py\n",
        "\n",
        "DESCRIPTION\n",
        "    A procedural interface is provided by the companion pyplot module,\n",
        "    which may be imported directly, e.g.::\n",
        "    \n",
        "        import matplotlib.pyplot as plt\n",
        "    \n",
        "    or using ipython::\n",
        "    \n",
        "        ipython\n",
        "    \n",
        "    at your terminal, followed by::\n",
        "    \n",
        "        In [1]: %matplotlib\n",
        "        In [2]: import matplotlib.pyplot as plt\n",
        "    \n",
        "    at the ipython shell prompt.\n",
        "    \n",
        "    For the most part, direct use of the object-oriented library is\n",
        "    encouraged when programming; pyplot is primarily for working\n",
        "    interactively.  The\n",
        "    exceptions are the pyplot commands :func:`~matplotlib.pyplot.figure`,\n",
        "    :func:`~matplotlib.pyplot.subplot`,\n",
        "    :func:`~matplotlib.pyplot.subplots`, and\n",
        "    :func:`~pyplot.savefig`, which can greatly simplify scripting.\n",
        "    \n",
        "    Modules include:\n",
        "    \n",
        "        :mod:`matplotlib.axes`\n",
        "            defines the :class:`~matplotlib.axes.Axes` class.  Most pylab\n",
        "            commands are wrappers for :class:`~matplotlib.axes.Axes`\n",
        "            methods.  The axes module is the highest level of OO access to\n",
        "            the library.\n",
        "    \n",
        "        :mod:`matplotlib.figure`\n",
        "            defines the :class:`~matplotlib.figure.Figure` class.\n",
        "    \n",
        "        :mod:`matplotlib.artist`\n",
        "            defines the :class:`~matplotlib.artist.Artist` base class for\n",
        "            all classes that draw things.\n",
        "    \n",
        "        :mod:`matplotlib.lines`\n",
        "            defines the :class:`~matplotlib.lines.Line2D` class for\n",
        "            drawing lines and markers\n",
        "    \n",
        "        :mod:`matplotlib.patches`\n",
        "            defines classes for drawing polygons\n",
        "    \n",
        "        :mod:`matplotlib.text`\n",
        "            defines the :class:`~matplotlib.text.Text`,\n",
        "            :class:`~matplotlib.text.TextWithDash`, and\n",
        "            :class:`~matplotlib.text.Annotate` classes\n",
        "    \n",
        "        :mod:`matplotlib.image`\n",
        "            defines the :class:`~matplotlib.image.AxesImage` and\n",
        "            :class:`~matplotlib.image.FigureImage` classes\n",
        "    \n",
        "        :mod:`matplotlib.collections`\n",
        "            classes for efficient drawing of groups of lines or polygons\n",
        "    \n",
        "        :mod:`matplotlib.colors`\n",
        "            classes for interpreting color specifications and for making\n",
        "            colormaps\n",
        "    \n",
        "        :mod:`matplotlib.cm`\n",
        "            colormaps and the :class:`~matplotlib.image.ScalarMappable`\n",
        "            mixin class for providing color mapping functionality to other\n",
        "            classes\n",
        "    \n",
        "        :mod:`matplotlib.ticker`\n",
        "            classes for calculating tick mark locations and for formatting\n",
        "            tick labels\n",
        "    \n",
        "        :mod:`matplotlib.backends`\n",
        "            a subpackage with modules for various gui libraries and output\n",
        "            formats\n",
        "    \n",
        "    The base matplotlib namespace includes:\n",
        "    \n",
        "        :data:`~matplotlib.rcParams`\n",
        "            a global dictionary of default configuration settings.  It is\n",
        "            initialized by code which may be overridded by a matplotlibrc\n",
        "            file.\n",
        "    \n",
        "        :func:`~matplotlib.rc`\n",
        "            a function for setting groups of rcParams values\n",
        "    \n",
        "        :func:`~matplotlib.use`\n",
        "            a function for setting the matplotlib backend.  If used, this\n",
        "            function must be called immediately after importing matplotlib\n",
        "            for the first time.  In particular, it must be called\n",
        "            **before** importing pylab (if pylab is imported).\n",
        "    \n",
        "    matplotlib was initially written by John D. Hunter (1968-2012) and is now\n",
        "    developed and maintained by a host of others.\n",
        "    \n",
        "    Occasionally the internal documentation (python docstrings) will refer\n",
        "    to MATLAB&reg;, a registered trademark of The MathWorks, Inc.\n",
        "\n",
        "PACKAGE CONTENTS\n",
        "    _cm\n",
        "    _cntr\n",
        "    _delaunay\n",
        "    _image\n",
        "    _mathtext_data\n",
        "    _path\n",
        "    _png\n",
        "    _pylab_helpers\n",
        "    _qhull\n",
        "    _tri\n",
        "    afm\n",
        "    animation\n",
        "    artist\n",
        "    axes (package)\n",
        "    axis\n",
        "    backend_bases\n",
        "    backends (package)\n",
        "    bezier\n",
        "    blocking_input\n",
        "    cbook\n",
        "    cm\n",
        "    collections\n",
        "    colorbar\n",
        "    colors\n",
        "    compat (package)\n",
        "    container\n",
        "    contour\n",
        "    dates\n",
        "    delaunay (package)\n",
        "    docstring\n",
        "    dviread\n",
        "    figure\n",
        "    finance\n",
        "    font_manager\n",
        "    fontconfig_pattern\n",
        "    ft2font\n",
        "    gridspec\n",
        "    hatch\n",
        "    image\n",
        "    legend\n",
        "    legend_handler\n",
        "    lines\n",
        "    markers\n",
        "    mathtext\n",
        "    mlab\n",
        "    mpl\n",
        "    offsetbox\n",
        "    patches\n",
        "    path\n",
        "    patheffects\n",
        "    projections (package)\n",
        "    pylab\n",
        "    pyplot\n",
        "    quiver\n",
        "    rcsetup\n",
        "    sankey\n",
        "    scale\n",
        "    sphinxext (package)\n",
        "    spines\n",
        "    stackplot\n",
        "    streamplot\n",
        "    style (package)\n",
        "    table\n",
        "    testing (package)\n",
        "    tests (package)\n",
        "\n",
        "SUBMODULES\n",
        "    subprocess\n",
        "\n",
        "CLASSES\n",
        "    __builtin__.dict(__builtin__.object)\n",
        "        RcParams\n",
        "    __builtin__.object\n",
        "        rc_context\n",
        "    Verbose\n",
        "    \n",
        "    class RcParams(__builtin__.dict)\n",
        "     |  A dictionary object including validation\n",
        "     |  \n",
        "     |  validating functions are defined and associated with rc parameters in\n",
        "     |  :mod:`matplotlib.rcsetup`\n",
        "     |  \n",
        "     |  Method resolution order:\n",
        "     |      RcParams\n",
        "     |      __builtin__.dict\n",
        "     |      __builtin__.object\n",
        "     |  \n",
        "     |  Methods defined here:\n",
        "     |  \n",
        "     |  __getitem__(self, key)\n",
        "     |  \n",
        "     |  __init__(self, *args, **kwargs)\n",
        "     |      # validate values on the way in\n",
        "     |  \n",
        "     |  __repr__(self)\n",
        "     |  \n",
        "     |  __setitem__(self, key, val)\n",
        "     |  \n",
        "     |  __str__(self)\n",
        "     |  \n",
        "     |  find_all(self, pattern)\n",
        "     |      Return the subset of this RcParams dictionary whose keys match,\n",
        "     |      using :func:`re.search`, the given ``pattern``.\n",
        "     |      \n",
        "     |      .. note::\n",
        "     |      \n",
        "     |          Changes to the returned dictionary are *not* propagated to\n",
        "     |          the parent RcParams dictionary.\n",
        "     |  \n",
        "     |  keys(self)\n",
        "     |      Return sorted list of keys.\n",
        "     |  \n",
        "     |  update(self, *args, **kwargs)\n",
        "     |      # http://stackoverflow.com/questions/2390827/how-to-properly-subclass-dict-and-override-get-set\n",
        "     |      # the default dict `update` does not use __setitem__\n",
        "     |      # so rcParams.update(...) (such as in seaborn) side-steps\n",
        "     |      # all of the validation over-ride update to force\n",
        "     |      # through __setitem__\n",
        "     |  \n",
        "     |  values(self)\n",
        "     |      Return values in order of sorted keys.\n",
        "     |  \n",
        "     |  ----------------------------------------------------------------------\n",
        "     |  Data descriptors defined here:\n",
        "     |  \n",
        "     |  __dict__\n",
        "     |      dictionary for instance variables (if defined)\n",
        "     |  \n",
        "     |  __weakref__\n",
        "     |      list of weak references to the object (if defined)\n",
        "     |  \n",
        "     |  ----------------------------------------------------------------------\n",
        "     |  Data and other attributes defined here:\n",
        "     |  \n",
        "     |  msg_depr = u'%s is deprecated and replaced with %s; please use the lat...\n",
        "     |  \n",
        "     |  msg_depr_ignore = u'%s is deprecated and ignored. Use %s'\n",
        "     |  \n",
        "     |  validate = {u'agg.path.chunksize': <function validate_int>, u'animatio...\n",
        "     |  \n",
        "     |  ----------------------------------------------------------------------\n",
        "     |  Methods inherited from __builtin__.dict:\n",
        "     |  \n",
        "     |  __cmp__(...)\n",
        "     |      x.__cmp__(y) <==> cmp(x,y)\n",
        "     |  \n",
        "     |  __contains__(...)\n",
        "     |      D.__contains__(k) -> True if D has a key k, else False\n",
        "     |  \n",
        "     |  __delitem__(...)\n",
        "     |      x.__delitem__(y) <==> del x[y]\n",
        "     |  \n",
        "     |  __eq__(...)\n",
        "     |      x.__eq__(y) <==> x==y\n",
        "     |  \n",
        "     |  __ge__(...)\n",
        "     |      x.__ge__(y) <==> x>=y\n",
        "     |  \n",
        "     |  __getattribute__(...)\n",
        "     |      x.__getattribute__('name') <==> x.name\n",
        "     |  \n",
        "     |  __gt__(...)\n",
        "     |      x.__gt__(y) <==> x>y\n",
        "     |  \n",
        "     |  __iter__(...)\n",
        "     |      x.__iter__() <==> iter(x)\n",
        "     |  \n",
        "     |  __le__(...)\n",
        "     |      x.__le__(y) <==> x<=y\n",
        "     |  \n",
        "     |  __len__(...)\n",
        "     |      x.__len__() <==> len(x)\n",
        "     |  \n",
        "     |  __lt__(...)\n",
        "     |      x.__lt__(y) <==> x<y\n",
        "     |  \n",
        "     |  __ne__(...)\n",
        "     |      x.__ne__(y) <==> x!=y\n",
        "     |  \n",
        "     |  __sizeof__(...)\n",
        "     |      D.__sizeof__() -> size of D in memory, in bytes\n",
        "     |  \n",
        "     |  clear(...)\n",
        "     |      D.clear() -> None.  Remove all items from D.\n",
        "     |  \n",
        "     |  copy(...)\n",
        "     |      D.copy() -> a shallow copy of D\n",
        "     |  \n",
        "     |  fromkeys(...)\n",
        "     |      dict.fromkeys(S[,v]) -> New dict with keys from S and values equal to v.\n",
        "     |      v defaults to None.\n",
        "     |  \n",
        "     |  get(...)\n",
        "     |      D.get(k[,d]) -> D[k] if k in D, else d.  d defaults to None.\n",
        "     |  \n",
        "     |  has_key(...)\n",
        "     |      D.has_key(k) -> True if D has a key k, else False\n",
        "     |  \n",
        "     |  items(...)\n",
        "     |      D.items() -> list of D's (key, value) pairs, as 2-tuples\n",
        "     |  \n",
        "     |  iteritems(...)\n",
        "     |      D.iteritems() -> an iterator over the (key, value) items of D\n",
        "     |  \n",
        "     |  iterkeys(...)\n",
        "     |      D.iterkeys() -> an iterator over the keys of D\n",
        "     |  \n",
        "     |  itervalues(...)\n",
        "     |      D.itervalues() -> an iterator over the values of D\n",
        "     |  \n",
        "     |  pop(...)\n",
        "     |      D.pop(k[,d]) -> v, remove specified key and return the corresponding value.\n",
        "     |      If key is not found, d is returned if given, otherwise KeyError is raised\n",
        "     |  \n",
        "     |  popitem(...)\n",
        "     |      D.popitem() -> (k, v), remove and return some (key, value) pair as a\n",
        "     |      2-tuple; but raise KeyError if D is empty.\n",
        "     |  \n",
        "     |  setdefault(...)\n",
        "     |      D.setdefault(k[,d]) -> D.get(k,d), also set D[k]=d if k not in D\n",
        "     |  \n",
        "     |  viewitems(...)\n",
        "     |      D.viewitems() -> a set-like object providing a view on D's items\n",
        "     |  \n",
        "     |  viewkeys(...)\n",
        "     |      D.viewkeys() -> a set-like object providing a view on D's keys\n",
        "     |  \n",
        "     |  viewvalues(...)\n",
        "     |      D.viewvalues() -> an object providing a view on D's values\n",
        "     |  \n",
        "     |  ----------------------------------------------------------------------\n",
        "     |  Data and other attributes inherited from __builtin__.dict:\n",
        "     |  \n",
        "     |  __hash__ = None\n",
        "     |  \n",
        "     |  __new__ = <built-in method __new__ of type object>\n",
        "     |      T.__new__(S, ...) -> a new object with type S, a subtype of T\n",
        "    \n",
        "    class Verbose\n",
        "     |  A class to handle reporting.  Set the fileo attribute to any file\n",
        "     |  instance to handle the output.  Default is sys.stdout\n",
        "     |  \n",
        "     |  Methods defined here:\n",
        "     |  \n",
        "     |  __init__(self)\n",
        "     |  \n",
        "     |  ge(self, level)\n",
        "     |      return true if self.level is >= level\n",
        "     |  \n",
        "     |  report(self, s, level=u'helpful')\n",
        "     |      print message s to self.fileo if self.level>=level.  Return\n",
        "     |      value indicates whether a message was issued\n",
        "     |  \n",
        "     |  set_fileo(self, fname)\n",
        "     |  \n",
        "     |  set_level(self, level)\n",
        "     |      set the verbosity to one of the Verbose.levels strings\n",
        "     |  \n",
        "     |  wrap(self, fmt, func, level=u'helpful', always=True)\n",
        "     |      return a callable function that wraps func and reports it\n",
        "     |      output through the verbose handler if current verbosity level\n",
        "     |      is higher than level\n",
        "     |      \n",
        "     |      if always is True, the report will occur on every function\n",
        "     |      call; otherwise only on the first time the function is called\n",
        "     |  \n",
        "     |  ----------------------------------------------------------------------\n",
        "     |  Data and other attributes defined here:\n",
        "     |  \n",
        "     |  arg = '--parent=1'\n",
        "     |  \n",
        "     |  i = 3\n",
        "     |  \n",
        "     |  level = u'debug-annoying'\n",
        "     |  \n",
        "     |  levels = (u'silent', u'helpful', u'debug', u'debug-annoying')\n",
        "     |  \n",
        "     |  vald = {u'debug': 2, u'debug-annoying': 3, u'helpful': 1, u'silent': 0...\n",
        "    \n",
        "    class rc_context(__builtin__.object)\n",
        "     |  Return a context manager for managing rc settings.\n",
        "     |  \n",
        "     |  This allows one to do::\n",
        "     |  \n",
        "     |      with mpl.rc_context(fname='screen.rc'):\n",
        "     |          plt.plot(x, a)\n",
        "     |          with mpl.rc_context(fname='print.rc'):\n",
        "     |              plt.plot(x, b)\n",
        "     |          plt.plot(x, c)\n",
        "     |  \n",
        "     |  The 'a' vs 'x' and 'c' vs 'x' plots would have settings from\n",
        "     |  'screen.rc', while the 'b' vs 'x' plot would have settings from\n",
        "     |  'print.rc'.\n",
        "     |  \n",
        "     |  A dictionary can also be passed to the context manager::\n",
        "     |  \n",
        "     |      with mpl.rc_context(rc={'text.usetex': True}, fname='screen.rc'):\n",
        "     |          plt.plot(x, a)\n",
        "     |  \n",
        "     |  The 'rc' dictionary takes precedence over the settings loaded from\n",
        "     |  'fname'.  Passing a dictionary only is also valid.\n",
        "     |  \n",
        "     |  Methods defined here:\n",
        "     |  \n",
        "     |  __enter__(self)\n",
        "     |  \n",
        "     |  __exit__(self, type, value, tb)\n",
        "     |  \n",
        "     |  __init__(self, rc=None, fname=None)\n",
        "     |  \n",
        "     |  ----------------------------------------------------------------------\n",
        "     |  Data descriptors defined here:\n",
        "     |  \n",
        "     |  __dict__\n",
        "     |      dictionary for instance variables (if defined)\n",
        "     |  \n",
        "     |  __weakref__\n",
        "     |      list of weak references to the object (if defined)\n",
        "\n",
        "FUNCTIONS\n",
        "    checkdep_dvipng()\n",
        "    \n",
        "    checkdep_ghostscript()\n",
        "    \n",
        "    checkdep_inkscape()\n",
        "    \n",
        "    checkdep_pdftops()\n",
        "    \n",
        "    checkdep_ps_distiller(s)\n",
        "    \n",
        "    checkdep_tex()\n",
        "    \n",
        "    checkdep_usetex(s)\n",
        "    \n",
        "    checkdep_xmllint()\n",
        "    \n",
        "    compare_versions(a, b)\n",
        "        return True if a is greater than or equal to b\n",
        "    \n",
        "    get_backend()\n",
        "        Return the name of the current backend.\n",
        "    \n",
        "    get_cachedir = wrapper(*args, **kwargs)\n",
        "        Return the location of the cache directory.\n",
        "        \n",
        "        The procedure used to find the directory is the same as for\n",
        "        _get_config_dir, except using `$XDG_CACHE_HOME`/`~/.cache` instead.\n",
        "    \n",
        "    get_configdir = wrapper(*args, **kwargs)\n",
        "        Return the string representing the configuration directory.\n",
        "        \n",
        "        The directory is chosen as follows:\n",
        "        \n",
        "        1. If the MPLCONFIGDIR environment variable is supplied, choose that.\n",
        "        \n",
        "        2a. On Linux, if `$HOME/.matplotlib` exists, choose that, but warn that\n",
        "            that is the old location.  Barring that, follow the XDG specification\n",
        "            and look first in `$XDG_CONFIG_HOME`, if defined, or `$HOME/.config`.\n",
        "        \n",
        "        2b. On other platforms, choose `$HOME/.matplotlib`.\n",
        "        \n",
        "        3. If the chosen directory exists and is writable, use that as the\n",
        "           configuration directory.\n",
        "        4. If possible, create a temporary directory, and use it as the\n",
        "           configuration directory.\n",
        "        5. A writable directory could not be found or created; return None.\n",
        "    \n",
        "    get_data_path = wrapper(*args, **kwargs)\n",
        "    \n",
        "    get_example_data(fname)\n",
        "        get_example_data is deprecated -- use matplotlib.cbook.get_sample_data instead\n",
        "    \n",
        "    get_home = wrapper(*args, **kwargs)\n",
        "        Find user's home directory if possible.\n",
        "        Otherwise, returns None.\n",
        "        \n",
        "        :see:  http://mail.python.org/pipermail/python-list/2005-February/325395.html\n",
        "    \n",
        "    get_py2exe_datafiles()\n",
        "    \n",
        "    interactive(b)\n",
        "        Set interactive mode to boolean b.\n",
        "        \n",
        "        If b is True, then draw after every plotting command, eg, after xlabel\n",
        "    \n",
        "    is_interactive()\n",
        "        Return true if plot mode is interactive\n",
        "    \n",
        "    is_url(filename)\n",
        "        Return True if string is an http, ftp, or file URL path.\n",
        "    \n",
        "    matplotlib_fname()\n",
        "        Get the location of the config file.\n",
        "        \n",
        "        The file location is determined in the following order\n",
        "        \n",
        "        - `$PWD/matplotlibrc`\n",
        "        \n",
        "        - environment variable `MATPLOTLIBRC`\n",
        "        \n",
        "        - `$MPLCONFIGDIR/matplotlib`\n",
        "        \n",
        "        - On Linux,\n",
        "        \n",
        "              - `$HOME/.matplotlib/matplotlibrc`, if it exists\n",
        "        \n",
        "              - or `$XDG_CONFIG_HOME/matplotlib/matplotlibrc` (if\n",
        "                $XDG_CONFIG_HOME is defined)\n",
        "        \n",
        "              - or `$HOME/.config/matplotlib/matplotlibrc` (if\n",
        "                $XDG_CONFIG_HOME is not defined)\n",
        "        \n",
        "        - On other platforms,\n",
        "        \n",
        "             - `$HOME/.matplotlib/matplotlibrc` if `$HOME` is defined.\n",
        "        \n",
        "        - Lastly, it looks in `$MATPLOTLIBDATA/matplotlibrc` for a\n",
        "          system-defined copy.\n",
        "    \n",
        "    rc(group, **kwargs)\n",
        "        Set the current rc params.  Group is the grouping for the rc, e.g.,\n",
        "        for ``lines.linewidth`` the group is ``lines``, for\n",
        "        ``axes.facecolor``, the group is ``axes``, and so on.  Group may\n",
        "        also be a list or tuple of group names, e.g., (*xtick*, *ytick*).\n",
        "        *kwargs* is a dictionary attribute name/value pairs, eg::\n",
        "        \n",
        "          rc('lines', linewidth=2, color='r')\n",
        "        \n",
        "        sets the current rc params and is equivalent to::\n",
        "        \n",
        "          rcParams['lines.linewidth'] = 2\n",
        "          rcParams['lines.color'] = 'r'\n",
        "        \n",
        "        The following aliases are available to save typing for interactive\n",
        "        users:\n",
        "        \n",
        "        =====   =================\n",
        "        Alias   Property\n",
        "        =====   =================\n",
        "        'lw'    'linewidth'\n",
        "        'ls'    'linestyle'\n",
        "        'c'     'color'\n",
        "        'fc'    'facecolor'\n",
        "        'ec'    'edgecolor'\n",
        "        'mew'   'markeredgewidth'\n",
        "        'aa'    'antialiased'\n",
        "        =====   =================\n",
        "        \n",
        "        Thus you could abbreviate the above rc command as::\n",
        "        \n",
        "              rc('lines', lw=2, c='r')\n",
        "        \n",
        "        \n",
        "        Note you can use python's kwargs dictionary facility to store\n",
        "        dictionaries of default parameters.  e.g., you can customize the\n",
        "        font rc as follows::\n",
        "        \n",
        "          font = {'family' : 'monospace',\n",
        "                  'weight' : 'bold',\n",
        "                  'size'   : 'larger'}\n",
        "        \n",
        "          rc('font', **font)  # pass in the font dict as kwargs\n",
        "        \n",
        "        This enables you to easily switch between several configurations.\n",
        "        Use :func:`~matplotlib.pyplot.rcdefaults` to restore the default\n",
        "        rc params after changes.\n",
        "    \n",
        "    rc_file(fname)\n",
        "        Update rc params from file.\n",
        "    \n",
        "    rc_file_defaults()\n",
        "        Restore the default rc params from the original matplotlib rc that\n",
        "        was loaded\n",
        "    \n",
        "    rc_params(fail_on_error=False)\n",
        "        Return a :class:`matplotlib.RcParams` instance from the\n",
        "        default matplotlib rc file.\n",
        "    \n",
        "    rc_params_from_file(fname, fail_on_error=False, use_default_template=True)\n",
        "        Return :class:`matplotlib.RcParams` from the contents of the given file.\n",
        "        \n",
        "        Parameters\n",
        "        ----------\n",
        "        fname : str\n",
        "            Name of file parsed for matplotlib settings.\n",
        "        fail_on_error : bool\n",
        "            If True, raise an error when the parser fails to convert a parameter.\n",
        "        use_default_template : bool\n",
        "            If True, initialize with default parameters before updating with those\n",
        "            in the given file. If False, the configuration class only contains the\n",
        "            parameters specified in the file. (Useful for updating dicts.)\n",
        "    \n",
        "    rcdefaults()\n",
        "        Restore the default rc params.  These are not the params loaded by\n",
        "        the rc file, but mpl's internal params.  See rc_file_defaults for\n",
        "        reloading the default params from the rc file\n",
        "    \n",
        "    test(verbosity=1)\n",
        "        run the matplotlib test suite\n",
        "    \n",
        "    tk_window_focus()\n",
        "        Return true if focus maintenance under TkAgg on win32 is on.\n",
        "        This currently works only for python.exe and IPython.exe.\n",
        "        Both IDLE and Pythonwin.exe fail badly when tk_window_focus is on.\n",
        "    \n",
        "    use(arg, warn=True, force=False)\n",
        "        Set the matplotlib backend to one of the known backends.\n",
        "        \n",
        "        The argument is case-insensitive. *warn* specifies whether a\n",
        "        warning should be issued if a backend has already been set up.\n",
        "        *force* is an **experimental** flag that tells matplotlib to\n",
        "        attempt to initialize a new backend by reloading the backend\n",
        "        module.\n",
        "        \n",
        "        .. note::\n",
        "        \n",
        "            This function must be called *before* importing pyplot for\n",
        "            the first time; or, if you are not using pyplot, it must be called\n",
        "            before importing matplotlib.backends.  If warn is True, a warning\n",
        "            is issued if you try and call this after pylab or pyplot have been\n",
        "            loaded.  In certain black magic use cases, e.g.\n",
        "            :func:`pyplot.switch_backend`, we are doing the reloading necessary to\n",
        "            make the backend switch work (in some cases, e.g., pure image\n",
        "            backends) so one can set warn=False to suppress the warnings.\n",
        "        \n",
        "        To find out which backend is currently set, see\n",
        "        :func:`matplotlib.get_backend`.\n",
        "\n",
        "DATA\n",
        "    URL_REGEX = <_sre.SRE_Pattern object>\n",
        "    __version__ = '1.4.2'\n",
        "    __version__numpy__ = '1.6'\n",
        "    absolute_import = _Feature((2, 5, 0, 'alpha', 1), (3, 0, 0, 'alpha', 0...\n",
        "    bad_pyparsing = False\n",
        "    default = True\n",
        "    defaultParams = {u'agg.path.chunksize': [0, <function validate_int>], ...\n",
        "    default_test_modules = [u'matplotlib.tests.test_agg', u'matplotlib.tes...\n",
        "    division = _Feature((2, 2, 0, 'alpha', 2), (3, 0, 0, 'alpha', 0), 8192...\n",
        "    f = Forward: \"a\"\n",
        "    key = u'svg.embed_char_paths'\n",
        "    major = 2\n",
        "    minor1 = 7\n",
        "    minor2 = 8\n",
        "    print_function = _Feature((2, 6, 0, 'alpha', 2), (3, 0, 0, 'alpha', 0)...\n",
        "    rcParams = RcParams({u'agg.path.chunksize': 0,\n",
        "              u'...size': 2...\n",
        "    rcParamsDefault = RcParams({u'agg.path.chunksize': 0,\n",
        "              u'...s...\n",
        "    rcParamsOrig = {u'agg.path.chunksize': 0, u'animation.avconv_args': []...\n",
        "    s = '--parent=1'\n",
        "    tmp = 0\n",
        "    unicode_literals = _Feature((2, 6, 0, 'alpha', 2), (3, 0, 0, 'alpha', ...\n",
        "    verbose = <matplotlib.Verbose instance>\n",
        "\n",
        "VERSION\n",
        "    1.4.2\n",
        "\n",
        "\n"
       ]
      }
     ],
     "prompt_number": 77
    }
   ],
   "metadata": {}
  }
 ]
}