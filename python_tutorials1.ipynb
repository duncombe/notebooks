{
 "metadata": {
  "name": "",
  "signature": "sha256:19e88a5176deae4258084ad7a23aeac39598379eb1eb24352e0bb0b7e7530bc0"
 },
 "nbformat": 3,
 "nbformat_minor": 0,
 "worksheets": [
  {
   "cells": [
    {
     "cell_type": "markdown",
     "metadata": {},
     "source": [
      "Tutorials from \n",
      "    - https://wiki.python.org/moin/BeginnersGuide/Programmers a source for tutorial sites\n",
      "    - http://hetland.org/writing/instant-python.html started with this but way simple, and poor examples    \n",
      "    - http://www.python-course.eu/execute_script.php then started this\n",
      "    - "
     ]
    },
    {
     "cell_type": "code",
     "collapsed": false,
     "input": [
      "\n",
      "\n"
     ],
     "language": "python",
     "metadata": {},
     "outputs": [],
     "prompt_number": 0
    },
    {
     "cell_type": "code",
     "collapsed": false,
     "input": [
      "# \n",
      "# http://hetland.org/writing/instant-python.html\n",
      "x,y,z=1,2,3\n",
      "print x\n",
      "print z\n",
      "\n",
      "first=\"fourth\"\n",
      "second = 'third'\n",
      "first,second = second,first\n",
      "\n",
      "print first, second"
     ],
     "language": "python",
     "metadata": {},
     "outputs": [
      {
       "output_type": "stream",
       "stream": "stdout",
       "text": [
        "1\n",
        "3\n",
        "third fourth\n"
       ]
      }
     ],
     "prompt_number": 1
    },
    {
     "cell_type": "code",
     "collapsed": false,
     "input": [
      "\n",
      "# mod from http://hetland.org/writing/instant-python.html\n",
      "def ffun(x):\n",
      "    if x < 5 or (x > 10 and x <20 ):\n",
      "        print  \"The value is OK.\"\n",
      "    else:\n",
      "        print \"The value is NOT ok.\"\n",
      "\n",
      "    if  x < 5 or 10 < x < 20:\n",
      "        print \"The value is OK.\""
     ],
     "language": "python",
     "metadata": {},
     "outputs": [],
     "prompt_number": 2
    },
    {
     "cell_type": "code",
     "collapsed": true,
     "input": [
      "\n",
      "# mod from http://hetland.org/writing/instant-python.html\n",
      "ii=0\n",
      "for i in [1,2,3,4,5,6,7,9]:\n",
      "    ii+=1\n",
      "    print \"This is iteration\", ii\n",
      "    print i\n",
      "    ffun(i)\n"
     ],
     "language": "python",
     "metadata": {},
     "outputs": [
      {
       "output_type": "stream",
       "stream": "stdout",
       "text": [
        "This is iteration 1\n",
        "1\n",
        "The value is OK.\n",
        "The value is OK.\n",
        "This is iteration 2\n",
        "2\n",
        "The value is OK.\n",
        "The value is OK.\n",
        "This is iteration 3\n",
        "3\n",
        "The value is OK.\n",
        "The value is OK.\n",
        "This is iteration 4\n",
        "4\n",
        "The value is OK.\n",
        "The value is OK.\n",
        "This is iteration 5\n",
        "5\n",
        "The value is NOT ok.\n",
        "This is iteration 6\n",
        "6\n",
        "The value is NOT ok.\n",
        "This is iteration 7\n",
        "7\n",
        "The value is NOT ok.\n",
        "This is iteration 8\n",
        "9\n",
        "The value is NOT ok.\n"
       ]
      }
     ],
     "prompt_number": 3
    },
    {
     "cell_type": "code",
     "collapsed": false,
     "input": [
      "3+2+1\n",
      "\n"
     ],
     "language": "python",
     "metadata": {},
     "outputs": [
      {
       "metadata": {},
       "output_type": "pyout",
       "prompt_number": 4,
       "text": [
        "6"
       ]
      }
     ],
     "prompt_number": 4
    },
    {
     "cell_type": "code",
     "collapsed": false,
     "input": [
      "_"
     ],
     "language": "python",
     "metadata": {},
     "outputs": [
      {
       "metadata": {},
       "output_type": "pyout",
       "prompt_number": 5,
       "text": [
        "6"
       ]
      }
     ],
     "prompt_number": 5
    },
    {
     "cell_type": "code",
     "collapsed": false,
     "input": [
      "# pwd works in a cell all by itself"
     ],
     "language": "python",
     "metadata": {},
     "outputs": [],
     "prompt_number": 6
    },
    {
     "cell_type": "code",
     "collapsed": false,
     "input": [
      "pwd"
     ],
     "language": "python",
     "metadata": {},
     "outputs": [
      {
       "metadata": {},
       "output_type": "pyout",
       "prompt_number": 7,
       "text": [
        "u'/home/duncombe/WORK/IOOS/notebooks'"
       ]
      }
     ],
     "prompt_number": 7
    },
    {
     "cell_type": "code",
     "collapsed": false,
     "input": [
      "# here it fail, where it is with something else\n",
      "pwd"
     ],
     "language": "python",
     "metadata": {},
     "outputs": [
      {
       "ename": "NameError",
       "evalue": "name 'pwd' is not defined",
       "output_type": "pyerr",
       "traceback": [
        "\u001b[1;31m---------------------------------------------------------------------------\u001b[0m\n\u001b[1;31mNameError\u001b[0m                                 Traceback (most recent call last)",
        "\u001b[1;32m<ipython-input-8-bd1888f8e59e>\u001b[0m in \u001b[0;36m<module>\u001b[1;34m()\u001b[0m\n\u001b[0;32m      1\u001b[0m \u001b[1;31m# here it fail, where it is with something else\u001b[0m\u001b[1;33m\u001b[0m\u001b[1;33m\u001b[0m\u001b[0m\n\u001b[1;32m----> 2\u001b[1;33m \u001b[0mpwd\u001b[0m\u001b[1;33m\u001b[0m\u001b[0m\n\u001b[0m",
        "\u001b[1;31mNameError\u001b[0m: name 'pwd' is not defined"
       ]
      }
     ],
     "prompt_number": 8
    },
    {
     "cell_type": "code",
     "collapsed": false,
     "input": [
      "# here it work\n",
      "%pwd"
     ],
     "language": "python",
     "metadata": {},
     "outputs": [
      {
       "metadata": {},
       "output_type": "pyout",
       "prompt_number": 9,
       "text": [
        "u'/home/duncombe/WORK/IOOS/notebooks'"
       ]
      }
     ],
     "prompt_number": 9
    },
    {
     "cell_type": "code",
     "collapsed": false,
     "input": [
      "# ls is the same deal\n",
      "%ls"
     ],
     "language": "python",
     "metadata": {},
     "outputs": [
      {
       "output_type": "stream",
       "stream": "stdout",
       "text": [
        "\u001b[0m\u001b[01;32mbadrunnotebook\u001b[0m*    gitsubtree.ipynb         python_tutorials2.ipynb  windows-requirements.txt\r\n",
        "easy-to-write.py   linux-requirements.txt   README.md\r\n",
        "easy-to-write.pyc  python_tutorials1.ipynb  \u001b[01;32mrunnotebook\u001b[0m*\r\n",
        "\u001b[m"
       ]
      }
     ],
     "prompt_number": 10
    },
    {
     "cell_type": "code",
     "collapsed": false,
     "input": [
      "# for unix system, this looks better\n",
      "%ls -1"
     ],
     "language": "python",
     "metadata": {},
     "outputs": [
      {
       "output_type": "stream",
       "stream": "stdout",
       "text": [
        "\u001b[0m\u001b[01;32mbadrunnotebook\u001b[0m*\r\n",
        "easy-to-write.py\r\n",
        "easy-to-write.pyc\r\n",
        "gitsubtree.ipynb\r\n",
        "linux-requirements.txt\r\n",
        "python_tutorials1.ipynb\r\n",
        "python_tutorials2.ipynb\r\n",
        "README.md\r\n",
        "\u001b[01;32mrunnotebook\u001b[0m*\r\n",
        "windows-requirements.txt\r\n",
        "\u001b[m"
       ]
      }
     ],
     "prompt_number": 11
    },
    {
     "cell_type": "code",
     "collapsed": false,
     "input": [
      "# From http://www.python-course.eu/execute_script.php\n",
      "%run easy-to-write\n",
      "    "
     ],
     "language": "python",
     "metadata": {},
     "outputs": [
      {
       "output_type": "stream",
       "stream": "stdout",
       "text": [
        "It's easy to write a Python script!\n"
       ]
      }
     ],
     "prompt_number": 12
    },
    {
     "cell_type": "code",
     "collapsed": false,
     "input": [
      "import py_compile\n",
      "py_compile.compile('easy-to-write.py')"
     ],
     "language": "python",
     "metadata": {},
     "outputs": [],
     "prompt_number": 13
    },
    {
     "cell_type": "code",
     "collapsed": false,
     "input": [
      "id(x)"
     ],
     "language": "python",
     "metadata": {},
     "outputs": [
      {
       "metadata": {},
       "output_type": "pyout",
       "prompt_number": 14,
       "text": [
        "29495704"
       ]
      }
     ],
     "prompt_number": 14
    },
    {
     "cell_type": "code",
     "collapsed": false,
     "input": [
      "print id(x)\n",
      "print type(x)\n",
      "!python --version"
     ],
     "language": "python",
     "metadata": {},
     "outputs": [
      {
       "output_type": "stream",
       "stream": "stdout",
       "text": [
        "29495704\n",
        "<type 'int'>\n",
        "Python 2.7.8 :: Continuum Analytics, Inc.\r\n"
       ]
      }
     ],
     "prompt_number": 15
    },
    {
     "cell_type": "code",
     "collapsed": false,
     "input": [
      "x=3 \n",
      "print id(x)\n",
      "y=x\n",
      "print id(y)\n",
      "y=2\n",
      "print id(y)\n",
      "print id(x)"
     ],
     "language": "python",
     "metadata": {},
     "outputs": [
      {
       "output_type": "stream",
       "stream": "stdout",
       "text": [
        "29495656\n",
        "29495656\n",
        "29495680\n",
        "29495656\n"
       ]
      }
     ],
     "prompt_number": 16
    },
    {
     "cell_type": "code",
     "collapsed": false,
     "input": [
      "print bin(7723)\n",
      "print 07723 # octal\n",
      "print 7723  # decimal\n",
      "print 0x7723 # hexadecimal\n",
      "print 98713459076123456769076132450971904579001L*0x183476779879018734AB37541DE3L\n",
      "print 0b11010001010100110001011010001010101011111010101011011111001111111111111111111111111100000111110101000101010010011010010001111\n",
      "print int('ab1235cd125sqwere456fg',36)\n",
      "print int('z',36), int('10',36), int('11',36)\n",
      "print int('A',36)\n"
     ],
     "language": "python",
     "metadata": {},
     "outputs": [
      {
       "output_type": "stream",
       "stream": "stdout",
       "text": [
        "0b1111000101011\n",
        "4051\n",
        "7723\n",
        "30499\n",
        "48461828731703307478061845238966274936576171859734197123656755051376031755\n",
        "34780008619896245476459847390398592143\n",
        "4959733324114973510602912093789132\n",
        "35 36 37\n",
        "10\n"
       ]
      }
     ],
     "prompt_number": 17
    },
    {
     "cell_type": "code",
     "collapsed": false,
     "input": [
      "def base36encode(number, alphabet='0123456789ABCDEFGHIJKLMNOPQRSTUVWXYZ'):\n",
      "    \"\"\"Converts an integer to a base36 string.\"\"\"\n",
      "    if not isinstance(number, (int, long)):\n",
      "        raise TypeError('number must be an integer')\n",
      "\n",
      "    base36 = ''\n",
      "    sign = ''\n",
      "\n",
      "    if number < 0:\n",
      "        sign = '-'\n",
      "        number = -number\n",
      "\n",
      "    if 0 <= number < len(alphabet):\n",
      "        return sign + alphabet[number]\n",
      "\n",
      "    while number != 0:\n",
      "        number, i = divmod(number, len(alphabet))\n",
      "        base36 = alphabet[i] + base36\n",
      "\n",
      "    return sign + base36\n",
      "\n",
      "def base36decode(number):\n",
      "    return int(number, 36)\n",
      "\n",
      "print base36encode(1412823931503067241)\n",
      "print base36decode('AQF8AA0006EH')"
     ],
     "language": "python",
     "metadata": {},
     "outputs": [
      {
       "output_type": "stream",
       "stream": "stdout",
       "text": [
        "AQF8AA0006EH\n",
        "1412823931503067241\n"
       ]
      }
     ],
     "prompt_number": 18
    },
    {
     "cell_type": "code",
     "collapsed": false,
     "input": [
      "import sys\n",
      "print sys.maxint\n",
      "sys.platform"
     ],
     "language": "python",
     "metadata": {},
     "outputs": [
      {
       "output_type": "stream",
       "stream": "stdout",
       "text": [
        "9223372036854775807\n"
       ]
      },
      {
       "metadata": {},
       "output_type": "pyout",
       "prompt_number": 19,
       "text": [
        "'linux2'"
       ]
      }
     ],
     "prompt_number": 19
    },
    {
     "cell_type": "code",
     "collapsed": false,
     "input": [
      "# Want a maximum number? Try:\n",
      "Bignum=float(\"inf\")\n",
      "print Bignum"
     ],
     "language": "python",
     "metadata": {},
     "outputs": [
      {
       "output_type": "stream",
       "stream": "stdout",
       "text": [
        "inf\n"
       ]
      }
     ],
     "prompt_number": 20
    },
    {
     "cell_type": "code",
     "collapsed": false,
     "input": [
      "ABC=\"worthless scum\"\n",
      "ABC[-3:]"
     ],
     "language": "python",
     "metadata": {},
     "outputs": [
      {
       "metadata": {},
       "output_type": "pyout",
       "prompt_number": 21,
       "text": [
        "'cum'"
       ]
      }
     ],
     "prompt_number": 21
    },
    {
     "cell_type": "code",
     "collapsed": false,
     "input": [
      "DEF=[\"pervert\", ' ', \"stinking\"]\n",
      "print 1, DEF[::-1]\n",
      "\n",
      "FED=list(reversed(DEF))\n",
      "print 2, FED\n",
      "for i in FED: \n",
      "    print i\n",
      "\n",
      "print 3, [i for i in FED]\n",
      "\n",
      "print 4, ''.join(FED)\n",
      "\n",
      "print 5, 'filthy', ''.join(FED)\n"
     ],
     "language": "python",
     "metadata": {},
     "outputs": [
      {
       "output_type": "stream",
       "stream": "stdout",
       "text": [
        "1 ['stinking', ' ', 'pervert']\n",
        "2 ['stinking', ' ', 'pervert']\n",
        "stinking\n",
        " \n",
        "pervert\n",
        "3 ['stinking', ' ', 'pervert']\n",
        "4 stinking pervert\n",
        "5 filthy stinking pervert\n"
       ]
      }
     ],
     "prompt_number": 22
    },
    {
     "cell_type": "code",
     "collapsed": true,
     "input": [
      "# help('is')"
     ],
     "language": "python",
     "metadata": {},
     "outputs": [],
     "prompt_number": 23
    },
    {
     "cell_type": "code",
     "collapsed": false,
     "input": [
      "i=42\n",
      "print i, type(i)\n",
      "i=i+1\n",
      "print i, type(i)\n",
      "i=i+0.11\n",
      "print i, type(i)"
     ],
     "language": "python",
     "metadata": {},
     "outputs": [
      {
       "output_type": "stream",
       "stream": "stdout",
       "text": [
        "42 <type 'int'>\n",
        "43 <type 'int'>\n",
        "43.11 <type 'float'>\n"
       ]
      }
     ],
     "prompt_number": 24
    },
    {
     "cell_type": "code",
     "collapsed": false,
     "input": [
      "# +, -\n",
      "# *, /, %\n",
      "# // floor division\n",
      "\n",
      "print i//1\n",
      "print (i//1)%2"
     ],
     "language": "python",
     "metadata": {},
     "outputs": [
      {
       "output_type": "stream",
       "stream": "stdout",
       "text": [
        "43.0\n",
        "1.0\n"
       ]
      }
     ],
     "prompt_number": 25
    },
    {
     "cell_type": "code",
     "collapsed": false,
     "input": [
      "name = input(\"Name?\")\n",
      "print(\"Helluo, Nauta \"+name )"
     ],
     "language": "python",
     "metadata": {},
     "outputs": [
      {
       "name": "stdout",
       "output_type": "stream",
       "stream": "stdout",
       "text": [
        "Name?\"Hoopy\"\n"
       ]
      },
      {
       "output_type": "stream",
       "stream": "stdout",
       "text": [
        "Helluo, Nauta Hoopy\n"
       ]
      }
     ],
     "prompt_number": 26
    },
    {
     "cell_type": "code",
     "collapsed": false,
     "input": [
      "print name\n"
     ],
     "language": "python",
     "metadata": {},
     "outputs": [
      {
       "output_type": "stream",
       "stream": "stdout",
       "text": [
        "Hoopy\n"
       ]
      }
     ],
     "prompt_number": 27
    },
    {
     "cell_type": "code",
     "collapsed": false,
     "input": [
      "name=raw_input(\"Name? \")\n",
      "print(\"Helluo, Nauta \"+name )\n"
     ],
     "language": "python",
     "metadata": {},
     "outputs": [
      {
       "name": "stdout",
       "output_type": "stream",
       "stream": "stdout",
       "text": [
        "Name? Hoopoopy\n"
       ]
      },
      {
       "output_type": "stream",
       "stream": "stdout",
       "text": [
        "Helluo, Nauta Hoopoopy\n"
       ]
      }
     ],
     "prompt_number": 28
    },
    {
     "cell_type": "code",
     "collapsed": false,
     "input": [
      "true"
     ],
     "language": "python",
     "metadata": {},
     "outputs": [
      {
       "ename": "NameError",
       "evalue": "name 'true' is not defined",
       "output_type": "pyerr",
       "traceback": [
        "\u001b[1;31m---------------------------------------------------------------------------\u001b[0m\n\u001b[1;31mNameError\u001b[0m                                 Traceback (most recent call last)",
        "\u001b[1;32m<ipython-input-29-74d9a83219ca>\u001b[0m in \u001b[0;36m<module>\u001b[1;34m()\u001b[0m\n\u001b[1;32m----> 1\u001b[1;33m \u001b[0mtrue\u001b[0m\u001b[1;33m\u001b[0m\u001b[0m\n\u001b[0m",
        "\u001b[1;31mNameError\u001b[0m: name 'true' is not defined"
       ]
      }
     ],
     "prompt_number": 29
    },
    {
     "cell_type": "code",
     "collapsed": false,
     "input": [
      "True"
     ],
     "language": "python",
     "metadata": {},
     "outputs": [
      {
       "metadata": {},
       "output_type": "pyout",
       "prompt_number": 30,
       "text": [
        "True"
       ]
      }
     ],
     "prompt_number": 30
    },
    {
     "cell_type": "code",
     "collapsed": false,
     "input": [
      "# This is an awk thing (also C): \n",
      "# mx=(a>b)?a:b; In python\n",
      "a=1\n",
      "b=2\n",
      "mx = a if (a>b) else b;\n",
      "\n",
      "print mx\n",
      "    "
     ],
     "language": "python",
     "metadata": {},
     "outputs": [
      {
       "output_type": "stream",
       "stream": "stdout",
       "text": [
        "2\n"
       ]
      }
     ],
     "prompt_number": 31
    },
    {
     "cell_type": "code",
     "collapsed": false,
     "input": [
      "# help('max')\n",
      "\n",
      "print max(a,b)\n"
     ],
     "language": "python",
     "metadata": {},
     "outputs": [
      {
       "output_type": "stream",
       "stream": "stdout",
       "text": [
        "2\n"
       ]
      }
     ],
     "prompt_number": 32
    },
    {
     "cell_type": "code",
     "collapsed": false,
     "input": [
      "\"\"\" Looks like this is a comment ? \"\"\" \n",
      "\n",
      "\"\"\" No, this is just string constants, and the tutorial thing is just using it to write a title! \"\"\""
     ],
     "language": "python",
     "metadata": {},
     "outputs": [
      {
       "metadata": {},
       "output_type": "pyout",
       "prompt_number": 33,
       "text": [
        "' No, this is just string constants, and the tutorial thing is just using it to write a title! '"
       ]
      }
     ],
     "prompt_number": 33
    },
    {
     "cell_type": "code",
     "collapsed": false,
     "input": [
      "import random\n",
      "\n",
      "s=[]\n",
      "\n",
      "s= [random.random() for i in range(301234)]"
     ],
     "language": "python",
     "metadata": {},
     "outputs": [],
     "prompt_number": 34
    },
    {
     "cell_type": "code",
     "collapsed": false,
     "input": [
      "Smax=-float(\"inf\")\n",
      "Smin=float(\"inf\")\n",
      "for i in s:\n",
      "    Smax=i if (i>Smax) else Smax\n",
      "    Smin=i if (i<Smin) else Smin\n",
      "print Smax, Smin"
     ],
     "language": "python",
     "metadata": {},
     "outputs": [
      {
       "output_type": "stream",
       "stream": "stdout",
       "text": [
        "0.999995181574 4.9763024812e-09\n"
       ]
      }
     ],
     "prompt_number": 35
    },
    {
     "cell_type": "code",
     "collapsed": false,
     "input": [
      "%matplotlib inline\n",
      "import matplotlib.pyplot as plt\n",
      "\n",
      "plt.plot(s)"
     ],
     "language": "python",
     "metadata": {},
     "outputs": [
      {
       "metadata": {},
       "output_type": "pyout",
       "prompt_number": 37,
       "text": [
        "[<matplotlib.lines.Line2D at 0x7fe5d7543090>]"
       ]
      },
      {
       "metadata": {},
       "output_type": "display_data",
       "png": "[encoded data removed]",
       "text": [
        "<matplotlib.figure.Figure at 0x7fe5d787fcd0>"
       ]
      }
     ],
     "prompt_number": 37
    },
    {
     "cell_type": "code",
     "collapsed": false,
     "input": [
      "# help(\"matplotlib\")"
     ],
     "language": "python",
     "metadata": {},
     "outputs": [],
     "prompt_number": 38
    },
    {
     "cell_type": "code",
     "collapsed": false,
     "input": [
      "plt.hist(s)"
     ],
     "language": "python",
     "metadata": {},
     "outputs": [
      {
       "metadata": {},
       "output_type": "pyout",
       "prompt_number": 39,
       "text": [
        "(array([ 30198.,  30149.,  30183.,  30102.,  30251.,  29993.,  30274.,\n",
        "         30062.,  29976.,  30046.]),\n",
        " array([  4.97630248e-09,   9.99995226e-02,   1.99999040e-01,\n",
        "          2.99998558e-01,   3.99998076e-01,   4.99997593e-01,\n",
        "          5.99997111e-01,   6.99996629e-01,   7.99996146e-01,\n",
        "          8.99995664e-01,   9.99995182e-01]),\n",
        " <a list of 10 Patch objects>)"
       ]
      },
      {
       "metadata": {},
       "output_type": "display_data",
       "png": "[encoded data removed]",
       "text": [
        "<matplotlib.figure.Figure at 0x7fe5d757c290>"
       ]
      }
     ],
     "prompt_number": 39
    },
    {
     "cell_type": "code",
     "collapsed": false,
     "input": [
      "g= [random.gauss(0,1) for i in range(len(s))]"
     ],
     "language": "python",
     "metadata": {},
     "outputs": [],
     "prompt_number": 40
    },
    {
     "cell_type": "code",
     "collapsed": false,
     "input": [
      "P=plt.hist(g,100)"
     ],
     "language": "python",
     "metadata": {},
     "outputs": [
      {
       "metadata": {},
       "output_type": "display_data",
       "png": "[encoded data removed]",
       "text": [
        "<matplotlib.figure.Figure at 0x7fe5d6f3a890>"
       ]
      }
     ],
     "prompt_number": 41
    },
    {
     "cell_type": "code",
     "collapsed": false,
     "input": [
      "P\n"
     ],
     "language": "python",
     "metadata": {},
     "outputs": [
      {
       "metadata": {},
       "output_type": "pyout",
       "prompt_number": 42,
       "text": [
        "(array([  1.00000000e+00,   0.00000000e+00,   0.00000000e+00,\n",
        "          2.00000000e+00,   1.00000000e+00,   6.00000000e+00,\n",
        "          2.00000000e+00,   4.00000000e+00,   7.00000000e+00,\n",
        "          6.00000000e+00,   1.50000000e+01,   1.40000000e+01,\n",
        "          2.60000000e+01,   2.60000000e+01,   5.40000000e+01,\n",
        "          5.80000000e+01,   7.90000000e+01,   8.50000000e+01,\n",
        "          1.41000000e+02,   1.65000000e+02,   2.37000000e+02,\n",
        "          2.66000000e+02,   3.87000000e+02,   4.35000000e+02,\n",
        "          5.89000000e+02,   7.25000000e+02,   8.71000000e+02,\n",
        "          1.00300000e+03,   1.29600000e+03,   1.54900000e+03,\n",
        "          1.80000000e+03,   2.19300000e+03,   2.51100000e+03,\n",
        "          2.87000000e+03,   3.29000000e+03,   3.91000000e+03,\n",
        "          4.43400000e+03,   4.91800000e+03,   5.53700000e+03,\n",
        "          6.07100000e+03,   6.70000000e+03,   7.37400000e+03,\n",
        "          7.75200000e+03,   8.30500000e+03,   8.83800000e+03,\n",
        "          9.36800000e+03,   9.86100000e+03,   1.00840000e+04,\n",
        "          1.05130000e+04,   1.06560000e+04,   1.08690000e+04,\n",
        "          1.07500000e+04,   1.07660000e+04,   1.08250000e+04,\n",
        "          1.03760000e+04,   1.01600000e+04,   9.63600000e+03,\n",
        "          9.39800000e+03,   8.84100000e+03,   8.42400000e+03,\n",
        "          7.75200000e+03,   7.14400000e+03,   6.51300000e+03,\n",
        "          6.14800000e+03,   5.44400000e+03,   4.73800000e+03,\n",
        "          4.32400000e+03,   3.80800000e+03,   3.26700000e+03,\n",
        "          2.91000000e+03,   2.47100000e+03,   2.14800000e+03,\n",
        "          1.77600000e+03,   1.52200000e+03,   1.24400000e+03,\n",
        "          1.02600000e+03,   8.35000000e+02,   6.80000000e+02,\n",
        "          5.68000000e+02,   4.28000000e+02,   3.38000000e+02,\n",
        "          2.43000000e+02,   2.12000000e+02,   1.73000000e+02,\n",
        "          1.27000000e+02,   9.00000000e+01,   6.00000000e+01,\n",
        "          5.20000000e+01,   3.00000000e+01,   2.10000000e+01,\n",
        "          1.60000000e+01,   9.00000000e+00,   1.30000000e+01,\n",
        "          9.00000000e+00,   7.00000000e+00,   2.00000000e+00,\n",
        "          1.00000000e+00,   1.00000000e+00,   0.00000000e+00,\n",
        "          4.00000000e+00]),\n",
        " array([-4.63853044, -4.54828118, -4.45803193, -4.36778267, -4.27753341,\n",
        "        -4.18728416, -4.0970349 , -4.00678564, -3.91653639, -3.82628713,\n",
        "        -3.73603787, -3.64578862, -3.55553936, -3.4652901 , -3.37504085,\n",
        "        -3.28479159, -3.19454233, -3.10429308, -3.01404382, -2.92379456,\n",
        "        -2.83354531, -2.74329605, -2.65304679, -2.56279754, -2.47254828,\n",
        "        -2.38229902, -2.29204977, -2.20180051, -2.11155125, -2.021302  ,\n",
        "        -1.93105274, -1.84080348, -1.75055423, -1.66030497, -1.57005571,\n",
        "        -1.47980646, -1.3895572 , -1.29930794, -1.20905869, -1.11880943,\n",
        "        -1.02856017, -0.93831092, -0.84806166, -0.7578124 , -0.66756315,\n",
        "        -0.57731389, -0.48706463, -0.39681538, -0.30656612, -0.21631686,\n",
        "        -0.12606761, -0.03581835,  0.05443091,  0.14468016,  0.23492942,\n",
        "         0.32517868,  0.41542793,  0.50567719,  0.59592645,  0.6861757 ,\n",
        "         0.77642496,  0.86667422,  0.95692347,  1.04717273,  1.13742199,\n",
        "         1.22767124,  1.3179205 ,  1.40816975,  1.49841901,  1.58866827,\n",
        "         1.67891752,  1.76916678,  1.85941604,  1.94966529,  2.03991455,\n",
        "         2.13016381,  2.22041306,  2.31066232,  2.40091158,  2.49116083,\n",
        "         2.58141009,  2.67165935,  2.7619086 ,  2.85215786,  2.94240712,\n",
        "         3.03265637,  3.12290563,  3.21315489,  3.30340414,  3.3936534 ,\n",
        "         3.48390266,  3.57415191,  3.66440117,  3.75465043,  3.84489968,\n",
        "         3.93514894,  4.0253982 ,  4.11564745,  4.20589671,  4.29614597,\n",
        "         4.38639522]),\n",
        " <a list of 100 Patch objects>)"
       ]
      }
     ],
     "prompt_number": 42
    },
    {
     "cell_type": "code",
     "collapsed": false,
     "input": [
      "import numpy as np\n",
      "import pylab\n",
      "import scipy.stats as stats\n",
      "\n",
      "stats.probplot(s,dist=\"norm\",plot=pylab)\n",
      "pylab.show"
     ],
     "language": "python",
     "metadata": {},
     "outputs": [
      {
       "metadata": {},
       "output_type": "pyout",
       "prompt_number": 43,
       "text": [
        "<function matplotlib.pyplot.show>"
       ]
      },
      {
       "metadata": {},
       "output_type": "display_data",
       "png": "[encoded data removed]",
       "text": [
        "<matplotlib.figure.Figure at 0x7fe5d7008150>"
       ]
      }
     ],
     "prompt_number": 43
    },
    {
     "cell_type": "code",
     "collapsed": false,
     "input": [
      "stats.probplot(g,dist=\"norm\",plot=pylab)\n",
      "pylab.show"
     ],
     "language": "python",
     "metadata": {},
     "outputs": [
      {
       "metadata": {},
       "output_type": "pyout",
       "prompt_number": 44,
       "text": [
        "<function matplotlib.pyplot.show>"
       ]
      },
      {
       "metadata": {},
       "output_type": "display_data",
       "png": "[encoded data removed]",
       "text": [
        "<matplotlib.figure.Figure at 0x7fe5d6f3a6d0>"
       ]
      }
     ],
     "prompt_number": 44
    },
    {
     "cell_type": "code",
     "collapsed": false,
     "input": [
      "h = [random.gauss(0,1) for i in range(len(s)*5)]\n",
      "stats.probplot(h,dist=\"norm\",plot=pylab)\n",
      "pylab.show"
     ],
     "language": "python",
     "metadata": {},
     "outputs": [
      {
       "metadata": {},
       "output_type": "pyout",
       "prompt_number": 45,
       "text": [
        "<function matplotlib.pyplot.show>"
       ]
      },
      {
       "metadata": {},
       "output_type": "display_data",
       "png": "[encoded data removed]",
       "text": [
        "<matplotlib.figure.Figure at 0x7fe5d6ed33d0>"
       ]
      }
     ],
     "prompt_number": 45
    },
    {
     "cell_type": "code",
     "collapsed": false,
     "input": [
      "print min(g),max(g)"
     ],
     "language": "python",
     "metadata": {},
     "outputs": [
      {
       "output_type": "stream",
       "stream": "stdout",
       "text": [
        "-4.63853044116 4.38639522474\n"
       ]
      }
     ],
     "prompt_number": 46
    },
    {
     "cell_type": "code",
     "collapsed": false,
     "input": [
      "print min(h),max(h)"
     ],
     "language": "python",
     "metadata": {},
     "outputs": [
      {
       "output_type": "stream",
       "stream": "stdout",
       "text": [
        "-5.02846196671 "
       ]
      },
      {
       "output_type": "stream",
       "stream": "stdout",
       "text": [
        "4.85249646809\n"
       ]
      }
     ],
     "prompt_number": 47
    },
    {
     "cell_type": "code",
     "collapsed": false,
     "input": [],
     "language": "python",
     "metadata": {},
     "outputs": []
    }
   ],
   "metadata": {}
  }
 ]
}