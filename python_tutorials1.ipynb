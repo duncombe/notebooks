{
 "metadata": {
  "name": "",
  "signature": "sha256:017acb4c0efc08639b694ccf96e85b4820dd9779ae91f7889c511711c92f69c6"
 },
 "nbformat": 3,
 "nbformat_minor": 0,
 "worksheets": [
  {
   "cells": [
    {
     "cell_type": "markdown",
     "metadata": {},
     "source": [
      "Tutorials from \n",
      "    - https://wiki.python.org/moin/BeginnersGuide/Programmers a source for tutorial sites\n",
      "    - http://hetland.org/writing/instant-python.html started with this but way simple, and poor examples    \n",
      "    - http://www.python-course.eu/execute_script.php then started this\n",
      "    - "
     ]
    },
    {
     "cell_type": "code",
     "collapsed": false,
     "input": [
      "\n",
      "\n"
     ],
     "language": "python",
     "metadata": {},
     "outputs": [],
     "prompt_number": 0
    },
    {
     "cell_type": "code",
     "collapsed": false,
     "input": [
      "# \n",
      "# http://hetland.org/writing/instant-python.html\n",
      "x,y,z=1,2,3\n",
      "print x\n",
      "print z\n",
      "\n",
      "first=\"fourth\"\n",
      "second = 'third'\n",
      "first,second = second,first\n",
      "\n",
      "print first, second"
     ],
     "language": "python",
     "metadata": {},
     "outputs": [
      {
       "output_type": "stream",
       "stream": "stdout",
       "text": [
        "1\n",
        "3\n",
        "third fourth\n"
       ]
      }
     ],
     "prompt_number": 1
    },
    {
     "cell_type": "code",
     "collapsed": false,
     "input": [
      "\n",
      "# mod from http://hetland.org/writing/instant-python.html\n",
      "def ffun(x):\n",
      "    if x < 5 or (x > 10 and x <20 ):\n",
      "        print  \"The value is OK.\"\n",
      "    else:\n",
      "        print \"The value is NOT ok.\"\n",
      "\n",
      "    if  x < 5 or 10 < x < 20:\n",
      "        print \"The value is OK.\""
     ],
     "language": "python",
     "metadata": {},
     "outputs": [],
     "prompt_number": 2
    },
    {
     "cell_type": "code",
     "collapsed": true,
     "input": [
      "\n",
      "# mod from http://hetland.org/writing/instant-python.html\n",
      "ii=0\n",
      "for i in [1,2,3,4,5,6,7,9]:\n",
      "    ii+=1\n",
      "    print \"This is iteration\", ii\n",
      "    print i\n",
      "    ffun(i)\n"
     ],
     "language": "python",
     "metadata": {},
     "outputs": [
      {
       "output_type": "stream",
       "stream": "stdout",
       "text": [
        "This is iteration 1\n",
        "1\n",
        "The value is OK.\n",
        "The value is OK.\n",
        "This is iteration 2\n",
        "2\n",
        "The value is OK.\n",
        "The value is OK.\n",
        "This is iteration 3\n",
        "3\n",
        "The value is OK.\n",
        "The value is OK.\n",
        "This is iteration 4\n",
        "4\n",
        "The value is OK.\n",
        "The value is OK.\n",
        "This is iteration 5\n",
        "5\n",
        "The value is NOT ok.\n",
        "This is iteration 6\n",
        "6\n",
        "The value is NOT ok.\n",
        "This is iteration 7\n",
        "7\n",
        "The value is NOT ok.\n",
        "This is iteration 8\n",
        "9\n",
        "The value is NOT ok.\n"
       ]
      }
     ],
     "prompt_number": 3
    },
    {
     "cell_type": "code",
     "collapsed": false,
     "input": [
      "3+2+1\n",
      "\n"
     ],
     "language": "python",
     "metadata": {},
     "outputs": [
      {
       "metadata": {},
       "output_type": "pyout",
       "prompt_number": 4,
       "text": [
        "6"
       ]
      }
     ],
     "prompt_number": 4
    },
    {
     "cell_type": "code",
     "collapsed": false,
     "input": [
      "_"
     ],
     "language": "python",
     "metadata": {},
     "outputs": [
      {
       "metadata": {},
       "output_type": "pyout",
       "prompt_number": 5,
       "text": [
        "6"
       ]
      }
     ],
     "prompt_number": 5
    },
    {
     "cell_type": "code",
     "collapsed": false,
     "input": [
      "# pwd works in a cell all by itself"
     ],
     "language": "python",
     "metadata": {},
     "outputs": [],
     "prompt_number": 6
    },
    {
     "cell_type": "code",
     "collapsed": false,
     "input": [
      "pwd"
     ],
     "language": "python",
     "metadata": {},
     "outputs": [
      {
       "metadata": {},
       "output_type": "pyout",
       "prompt_number": 7,
       "text": [
        "u'/data/duncombe/IOOS/notebooks'"
       ]
      }
     ],
     "prompt_number": 7
    },
    {
     "cell_type": "code",
     "collapsed": false,
     "input": [
      "# here it fail, where it is with something else\n",
      "pwd"
     ],
     "language": "python",
     "metadata": {},
     "outputs": [
      {
       "ename": "NameError",
       "evalue": "name 'pwd' is not defined",
       "output_type": "pyerr",
       "traceback": [
        "\u001b[1;31m---------------------------------------------------------------------------\u001b[0m\n\u001b[1;31mNameError\u001b[0m                                 Traceback (most recent call last)",
        "\u001b[1;32m<ipython-input-8-bd1888f8e59e>\u001b[0m in \u001b[0;36m<module>\u001b[1;34m()\u001b[0m\n\u001b[0;32m      1\u001b[0m \u001b[1;31m# here it fail, where it is with something else\u001b[0m\u001b[1;33m\u001b[0m\u001b[1;33m\u001b[0m\u001b[0m\n\u001b[1;32m----> 2\u001b[1;33m \u001b[0mpwd\u001b[0m\u001b[1;33m\u001b[0m\u001b[0m\n\u001b[0m",
        "\u001b[1;31mNameError\u001b[0m: name 'pwd' is not defined"
       ]
      }
     ],
     "prompt_number": 8
    },
    {
     "cell_type": "code",
     "collapsed": false,
     "input": [
      "# here it work\n",
      "%pwd"
     ],
     "language": "python",
     "metadata": {},
     "outputs": [
      {
       "metadata": {},
       "output_type": "pyout",
       "prompt_number": 9,
       "text": [
        "u'/data/duncombe/IOOS/notebooks'"
       ]
      }
     ],
     "prompt_number": 9
    },
    {
     "cell_type": "code",
     "collapsed": false,
     "input": [
      "# ls is the same deal\n",
      "%ls"
     ],
     "language": "python",
     "metadata": {},
     "outputs": [
      {
       "output_type": "stream",
       "stream": "stdout",
       "text": [
        "README.md          gitsubtree.ipynb         \u001b[0m\u001b[01;32mrunnotebook\u001b[0m*\r\n",
        "\u001b[01;32mbadrunnotebook\u001b[0m*    linux-requirements.txt   windows-requirements.txt\r\n",
        "easy-to-write.py   python_tutorials1.ipynb\r\n",
        "easy-to-write.pyc  python_tutorials2.ipynb\r\n",
        "\u001b[m"
       ]
      }
     ],
     "prompt_number": 10
    },
    {
     "cell_type": "code",
     "collapsed": false,
     "input": [
      "# for unix system, this looks better\n",
      "%ls -1"
     ],
     "language": "python",
     "metadata": {},
     "outputs": [
      {
       "output_type": "stream",
       "stream": "stdout",
       "text": [
        "README.md\r\n",
        "\u001b[0m\u001b[01;32mbadrunnotebook\u001b[0m*\r\n",
        "easy-to-write.py\r\n",
        "easy-to-write.pyc\r\n",
        "gitsubtree.ipynb\r\n",
        "linux-requirements.txt\r\n",
        "python_tutorials1.ipynb\r\n",
        "python_tutorials2.ipynb\r\n",
        "\u001b[01;32mrunnotebook\u001b[0m*\r\n",
        "windows-requirements.txt\r\n",
        "\u001b[m"
       ]
      }
     ],
     "prompt_number": 11
    },
    {
     "cell_type": "code",
     "collapsed": false,
     "input": [
      "# From http://www.python-course.eu/execute_script.php\n",
      "%run easy-to-write\n",
      "    "
     ],
     "language": "python",
     "metadata": {},
     "outputs": [
      {
       "output_type": "stream",
       "stream": "stdout",
       "text": [
        "It's easy to write a Python script!\n"
       ]
      }
     ],
     "prompt_number": 12
    },
    {
     "cell_type": "code",
     "collapsed": false,
     "input": [
      "import py_compile\n",
      "py_compile.compile('easy-to-write.py')"
     ],
     "language": "python",
     "metadata": {},
     "outputs": [],
     "prompt_number": 13
    },
    {
     "cell_type": "code",
     "collapsed": false,
     "input": [
      "id(x)"
     ],
     "language": "python",
     "metadata": {},
     "outputs": [
      {
       "metadata": {},
       "output_type": "pyout",
       "prompt_number": 14,
       "text": [
        "25928088"
       ]
      }
     ],
     "prompt_number": 14
    },
    {
     "cell_type": "code",
     "collapsed": false,
     "input": [
      "print id(x)\n",
      "print type(x)\n",
      "!python --version"
     ],
     "language": "python",
     "metadata": {},
     "outputs": [
      {
       "output_type": "stream",
       "stream": "stdout",
       "text": [
        "25928088\n",
        "<type 'int'>\n",
        "Python 2.7.9 :: Continuum Analytics, Inc.\r\n"
       ]
      }
     ],
     "prompt_number": 15
    },
    {
     "cell_type": "code",
     "collapsed": false,
     "input": [
      "x=3 \n",
      "print id(x)\n",
      "y=x\n",
      "print id(y)\n",
      "y=2\n",
      "print id(y)\n",
      "print id(x)"
     ],
     "language": "python",
     "metadata": {},
     "outputs": [
      {
       "output_type": "stream",
       "stream": "stdout",
       "text": [
        "25928040\n",
        "25928040\n",
        "25928064\n",
        "25928040\n"
       ]
      }
     ],
     "prompt_number": 16
    },
    {
     "cell_type": "code",
     "collapsed": false,
     "input": [
      "print bin(7723)\n",
      "print 07723 # octal\n",
      "print 7723  # decimal\n",
      "print 0x7723 # hexadecimal\n",
      "print 98713459076123456769076132450971904579001L*0x183476779879018734AB37541DE3L\n",
      "print 0b11010001010100110001011010001010101011111010101011011111001111111111111111111111111100000111110101000101010010011010010001111\n",
      "print int('ab1235cd125sqwere456fg',36)\n",
      "print int('z',36), int('10',36), int('11',36)\n",
      "print int('A',36)\n"
     ],
     "language": "python",
     "metadata": {},
     "outputs": [
      {
       "output_type": "stream",
       "stream": "stdout",
       "text": [
        "0b1111000101011\n",
        "4051\n",
        "7723\n",
        "30499\n",
        "48461828731703307478061845238966274936576171859734197123656755051376031755\n",
        "34780008619896245476459847390398592143\n",
        "4959733324114973510602912093789132\n",
        "35 36 37\n",
        "10\n"
       ]
      }
     ],
     "prompt_number": 17
    },
    {
     "cell_type": "code",
     "collapsed": false,
     "input": [
      "def base36encode(number, alphabet='0123456789ABCDEFGHIJKLMNOPQRSTUVWXYZ'):\n",
      "    \"\"\"Converts an integer to a base36 string.\"\"\"\n",
      "    if not isinstance(number, (int, long)):\n",
      "        raise TypeError('number must be an integer')\n",
      "\n",
      "    base36 = ''\n",
      "    sign = ''\n",
      "\n",
      "    if number < 0:\n",
      "        sign = '-'\n",
      "        number = -number\n",
      "\n",
      "    if 0 <= number < len(alphabet):\n",
      "        return sign + alphabet[number]\n",
      "\n",
      "    while number != 0:\n",
      "        number, i = divmod(number, len(alphabet))\n",
      "        base36 = alphabet[i] + base36\n",
      "\n",
      "    return sign + base36\n",
      "\n",
      "def base36decode(number):\n",
      "    return int(number, 36)\n",
      "\n",
      "print base36encode(1412823931503067241)\n",
      "print base36decode('AQF8AA0006EH')"
     ],
     "language": "python",
     "metadata": {},
     "outputs": [
      {
       "output_type": "stream",
       "stream": "stdout",
       "text": [
        "AQF8AA0006EH\n",
        "1412823931503067241\n"
       ]
      }
     ],
     "prompt_number": 18
    },
    {
     "cell_type": "code",
     "collapsed": false,
     "input": [
      "import sys\n",
      "print sys.maxint\n",
      "sys.platform"
     ],
     "language": "python",
     "metadata": {},
     "outputs": [
      {
       "output_type": "stream",
       "stream": "stdout",
       "text": [
        "9223372036854775807\n"
       ]
      },
      {
       "metadata": {},
       "output_type": "pyout",
       "prompt_number": 19,
       "text": [
        "'linux2'"
       ]
      }
     ],
     "prompt_number": 19
    },
    {
     "cell_type": "code",
     "collapsed": false,
     "input": [
      "# Want a maximum number? Try:\n",
      "Bignum=float(\"inf\")\n",
      "print Bignum"
     ],
     "language": "python",
     "metadata": {},
     "outputs": [
      {
       "output_type": "stream",
       "stream": "stdout",
       "text": [
        "inf\n"
       ]
      }
     ],
     "prompt_number": 20
    },
    {
     "cell_type": "code",
     "collapsed": false,
     "input": [
      "ABC=\"worthless scum\"\n",
      "ABC[-3:]"
     ],
     "language": "python",
     "metadata": {},
     "outputs": [
      {
       "metadata": {},
       "output_type": "pyout",
       "prompt_number": 21,
       "text": [
        "'cum'"
       ]
      }
     ],
     "prompt_number": 21
    },
    {
     "cell_type": "code",
     "collapsed": false,
     "input": [
      "DEF=[\"pervert\", ' ', \"stinking\"]\n",
      "print 1, DEF[::-1]\n",
      "\n",
      "FED=list(reversed(DEF))\n",
      "print 2, FED\n",
      "for i in FED: \n",
      "    print i\n",
      "\n",
      "print 3, [i for i in FED]\n",
      "\n",
      "print 4, ''.join(FED)\n",
      "\n",
      "print 5, 'filthy', ''.join(FED)\n"
     ],
     "language": "python",
     "metadata": {},
     "outputs": [
      {
       "output_type": "stream",
       "stream": "stdout",
       "text": [
        "1 ['stinking', ' ', 'pervert']\n",
        "2 ['stinking', ' ', 'pervert']\n",
        "stinking\n",
        " \n",
        "pervert\n",
        "3 ['stinking', ' ', 'pervert']\n",
        "4 stinking pervert\n",
        "5 filthy stinking pervert\n"
       ]
      }
     ],
     "prompt_number": 22
    },
    {
     "cell_type": "code",
     "collapsed": true,
     "input": [
      "# help('is')"
     ],
     "language": "python",
     "metadata": {},
     "outputs": [],
     "prompt_number": 25
    },
    {
     "cell_type": "code",
     "collapsed": false,
     "input": [
      "i=42\n",
      "print i, type(i)\n",
      "i=i+1\n",
      "print i, type(i)\n",
      "i=i+0.11\n",
      "print i, type(i)"
     ],
     "language": "python",
     "metadata": {},
     "outputs": [
      {
       "output_type": "stream",
       "stream": "stdout",
       "text": [
        "42 <type 'int'>\n",
        "43 <type 'int'>\n",
        "43.11 <type 'float'>\n"
       ]
      }
     ],
     "prompt_number": 26
    },
    {
     "cell_type": "code",
     "collapsed": false,
     "input": [
      "# +, -\n",
      "# *, /, %\n",
      "# // floor division\n",
      "\n",
      "print i//1\n",
      "print (i//1)%2"
     ],
     "language": "python",
     "metadata": {},
     "outputs": [
      {
       "output_type": "stream",
       "stream": "stdout",
       "text": [
        "43.0\n",
        "1.0\n"
       ]
      }
     ],
     "prompt_number": 27
    },
    {
     "cell_type": "code",
     "collapsed": false,
     "input": [
      "name = input(\"Name?\")\n",
      "print(\"Helluo, Nauta \"+name )"
     ],
     "language": "python",
     "metadata": {},
     "outputs": [
      {
       "name": "stdout",
       "output_type": "stream",
       "stream": "stdout",
       "text": [
        "Name?\"Hoopy\"\n"
       ]
      },
      {
       "output_type": "stream",
       "stream": "stdout",
       "text": [
        "Helluo, Nauta Hoopy\n"
       ]
      }
     ],
     "prompt_number": 28
    },
    {
     "cell_type": "code",
     "collapsed": false,
     "input": [
      "print name\n"
     ],
     "language": "python",
     "metadata": {},
     "outputs": [
      {
       "output_type": "stream",
       "stream": "stdout",
       "text": [
        "Hoopy\n"
       ]
      }
     ],
     "prompt_number": 30
    },
    {
     "cell_type": "code",
     "collapsed": false,
     "input": [
      "name=raw_input(\"Name? \")\n",
      "print(\"Helluo, Nauta \"+name )\n"
     ],
     "language": "python",
     "metadata": {},
     "outputs": [
      {
       "name": "stdout",
       "output_type": "stream",
       "stream": "stdout",
       "text": [
        "Name? Hooppy\n"
       ]
      },
      {
       "output_type": "stream",
       "stream": "stdout",
       "text": [
        "Helluo, Nauta Hooppy\n"
       ]
      }
     ],
     "prompt_number": 31
    },
    {
     "cell_type": "code",
     "collapsed": false,
     "input": [
      "true"
     ],
     "language": "python",
     "metadata": {},
     "outputs": [
      {
       "ename": "NameError",
       "evalue": "name 'true' is not defined",
       "output_type": "pyerr",
       "traceback": [
        "\u001b[1;31m---------------------------------------------------------------------------\u001b[0m\n\u001b[1;31mNameError\u001b[0m                                 Traceback (most recent call last)",
        "\u001b[1;32m<ipython-input-32-74d9a83219ca>\u001b[0m in \u001b[0;36m<module>\u001b[1;34m()\u001b[0m\n\u001b[1;32m----> 1\u001b[1;33m \u001b[0mtrue\u001b[0m\u001b[1;33m\u001b[0m\u001b[0m\n\u001b[0m",
        "\u001b[1;31mNameError\u001b[0m: name 'true' is not defined"
       ]
      }
     ],
     "prompt_number": 32
    },
    {
     "cell_type": "code",
     "collapsed": false,
     "input": [
      "True"
     ],
     "language": "python",
     "metadata": {},
     "outputs": [
      {
       "metadata": {},
       "output_type": "pyout",
       "prompt_number": 33,
       "text": [
        "True"
       ]
      }
     ],
     "prompt_number": 33
    },
    {
     "cell_type": "code",
     "collapsed": false,
     "input": [
      "# This is an awk thing (also C): \n",
      "# mx=(a>b)?a:b; In python\n",
      "a=1\n",
      "b=2\n",
      "mx = a if (a>b) else b;\n",
      "\n",
      "print mx\n",
      "    "
     ],
     "language": "python",
     "metadata": {},
     "outputs": [
      {
       "output_type": "stream",
       "stream": "stdout",
       "text": [
        "2\n"
       ]
      }
     ],
     "prompt_number": 34
    },
    {
     "cell_type": "code",
     "collapsed": false,
     "input": [
      "# help('max')\n",
      "\n",
      "print max(a,b)\n"
     ],
     "language": "python",
     "metadata": {},
     "outputs": [
      {
       "output_type": "stream",
       "stream": "stdout",
       "text": [
        "2\n"
       ]
      }
     ],
     "prompt_number": 35
    },
    {
     "cell_type": "code",
     "collapsed": false,
     "input": [
      "\"\"\" Looks like this is a comment ? \"\"\" \n",
      "\n",
      "\"\"\" No, this is just string constants, and the tutorial thing is just using it to write a title! \"\"\""
     ],
     "language": "python",
     "metadata": {},
     "outputs": [
      {
       "metadata": {},
       "output_type": "pyout",
       "prompt_number": 36,
       "text": [
        "' No, this is just string constants, and the tutorial thing is just using it to write a title! '"
       ]
      }
     ],
     "prompt_number": 36
    },
    {
     "cell_type": "code",
     "collapsed": false,
     "input": [
      "import random\n",
      "\n",
      "s=[]\n",
      "\n",
      "s= [random.random() for i in range(301234)]"
     ],
     "language": "python",
     "metadata": {},
     "outputs": [],
     "prompt_number": 37
    },
    {
     "cell_type": "code",
     "collapsed": false,
     "input": [
      "Smax=-float(\"inf\")\n",
      "Smin=float(\"inf\")\n",
      "for i in s:\n",
      "    Smax=i if (i>Smax) else Smax\n",
      "    Smin=i if (i<Smin) else Smin\n",
      "print Smax, Smin"
     ],
     "language": "python",
     "metadata": {},
     "outputs": [
      {
       "output_type": "stream",
       "stream": "stdout",
       "text": [
        "0.999990759388 2.2036302586e-06\n"
       ]
      }
     ],
     "prompt_number": 38
    },
    {
     "cell_type": "code",
     "collapsed": false,
     "input": [
      "%matplotlib inline\n",
      "import matplotlib.pyplot as plt\n",
      "\n",
      "plt.plot(s)"
     ],
     "language": "python",
     "metadata": {},
     "outputs": [
      {
       "metadata": {},
       "output_type": "pyout",
       "prompt_number": 44,
       "text": [
        "[<matplotlib.lines.Line2D at 0x7fb535bf1dd0>]"
       ]
      },
      {
       "metadata": {},
       "output_type": "display_data",
       "png": "[encoded data removed]",
       "text": [
        "<matplotlib.figure.Figure at 0x7fb5364f2fd0>"
       ]
      }
     ],
     "prompt_number": 44
    },
    {
     "cell_type": "code",
     "collapsed": false,
     "input": [
      "# help(\"matplotlib\")"
     ],
     "language": "python",
     "metadata": {},
     "outputs": []
    },
    {
     "cell_type": "code",
     "collapsed": false,
     "input": [
      "plt.hist(s)"
     ],
     "language": "python",
     "metadata": {},
     "outputs": [
      {
       "metadata": {},
       "output_type": "pyout",
       "prompt_number": 49,
       "text": [
        "(array([ 30398.,  30152.,  29802.,  30366.,  30400.,  29830.,  29923.,\n",
        "         30173.,  30078.,  30112.]),\n",
        " array([  2.20363026e-06,   1.00001059e-01,   1.99999915e-01,\n",
        "          2.99998770e-01,   3.99997626e-01,   4.99996482e-01,\n",
        "          5.99995337e-01,   6.99994193e-01,   7.99993048e-01,\n",
        "          8.99991904e-01,   9.99990759e-01]),\n",
        " <a list of 10 Patch objects>)"
       ]
      },
      {
       "metadata": {},
       "output_type": "display_data",
       "png": "[encoded data removed]",
       "text": [
        "<matplotlib.figure.Figure at 0x7fb533970e50>"
       ]
      }
     ],
     "prompt_number": 49
    },
    {
     "cell_type": "code",
     "collapsed": false,
     "input": [
      "g= [random.gauss(0,1) for i in range(len(s))]"
     ],
     "language": "python",
     "metadata": {},
     "outputs": [],
     "prompt_number": 50
    },
    {
     "cell_type": "code",
     "collapsed": false,
     "input": [
      "P=plt.hist(g,100)"
     ],
     "language": "python",
     "metadata": {},
     "outputs": [
      {
       "metadata": {},
       "output_type": "display_data",
       "png": "[encoded data removed]",
       "text": [
        "<matplotlib.figure.Figure at 0x7fb532e64310>"
       ]
      }
     ],
     "prompt_number": 55
    },
    {
     "cell_type": "code",
     "collapsed": false,
     "input": [
      "P\n"
     ],
     "language": "python",
     "metadata": {},
     "outputs": [
      {
       "metadata": {},
       "output_type": "pyout",
       "prompt_number": 58,
       "text": [
        "(array([  1.00000000e+00,   1.00000000e+00,   1.00000000e+00,\n",
        "          2.00000000e+00,   2.00000000e+00,   3.00000000e+00,\n",
        "          6.00000000e+00,   4.00000000e+00,   5.00000000e+00,\n",
        "          1.40000000e+01,   1.90000000e+01,   2.20000000e+01,\n",
        "          3.40000000e+01,   4.80000000e+01,   5.70000000e+01,\n",
        "          6.90000000e+01,   1.03000000e+02,   1.22000000e+02,\n",
        "          1.38000000e+02,   1.87000000e+02,   2.77000000e+02,\n",
        "          3.11000000e+02,   3.82000000e+02,   5.07000000e+02,\n",
        "          6.07000000e+02,   7.48000000e+02,   8.99000000e+02,\n",
        "          1.13200000e+03,   1.35800000e+03,   1.65800000e+03,\n",
        "          1.88500000e+03,   2.22200000e+03,   2.60600000e+03,\n",
        "          3.00300000e+03,   3.40100000e+03,   3.82500000e+03,\n",
        "          4.30700000e+03,   4.91500000e+03,   5.35000000e+03,\n",
        "          5.96800000e+03,   6.48100000e+03,   6.93800000e+03,\n",
        "          7.74500000e+03,   8.19700000e+03,   8.64300000e+03,\n",
        "          9.14000000e+03,   9.55200000e+03,   9.64400000e+03,\n",
        "          1.00930000e+04,   1.03930000e+04,   1.02860000e+04,\n",
        "          1.04580000e+04,   1.05320000e+04,   1.03170000e+04,\n",
        "          1.02140000e+04,   9.86000000e+03,   9.52400000e+03,\n",
        "          9.25000000e+03,   8.71200000e+03,   8.31800000e+03,\n",
        "          7.72000000e+03,   7.35700000e+03,   6.70100000e+03,\n",
        "          6.18600000e+03,   5.68100000e+03,   5.10200000e+03,\n",
        "          4.49400000e+03,   4.10600000e+03,   3.62200000e+03,\n",
        "          3.10800000e+03,   2.81400000e+03,   2.29800000e+03,\n",
        "          2.02300000e+03,   1.73000000e+03,   1.43200000e+03,\n",
        "          1.19600000e+03,   1.04500000e+03,   8.08000000e+02,\n",
        "          7.49000000e+02,   5.22000000e+02,   4.28000000e+02,\n",
        "          3.66000000e+02,   2.75000000e+02,   2.54000000e+02,\n",
        "          1.89000000e+02,   1.45000000e+02,   1.03000000e+02,\n",
        "          7.80000000e+01,   5.60000000e+01,   3.70000000e+01,\n",
        "          3.20000000e+01,   2.50000000e+01,   1.50000000e+01,\n",
        "          1.30000000e+01,   1.20000000e+01,   6.00000000e+00,\n",
        "          4.00000000e+00,   0.00000000e+00,   3.00000000e+00,\n",
        "          3.00000000e+00]),\n",
        " array([-4.5095118 , -4.42227661, -4.33504142, -4.24780622, -4.16057103,\n",
        "        -4.07333584, -3.98610064, -3.89886545, -3.81163026, -3.72439507,\n",
        "        -3.63715987, -3.54992468, -3.46268949, -3.37545429, -3.2882191 ,\n",
        "        -3.20098391, -3.11374872, -3.02651352, -2.93927833, -2.85204314,\n",
        "        -2.76480794, -2.67757275, -2.59033756, -2.50310237, -2.41586717,\n",
        "        -2.32863198, -2.24139679, -2.1541616 , -2.0669264 , -1.97969121,\n",
        "        -1.89245602, -1.80522082, -1.71798563, -1.63075044, -1.54351525,\n",
        "        -1.45628005, -1.36904486, -1.28180967, -1.19457447, -1.10733928,\n",
        "        -1.02010409, -0.9328689 , -0.8456337 , -0.75839851, -0.67116332,\n",
        "        -0.58392812, -0.49669293, -0.40945774, -0.32222255, -0.23498735,\n",
        "        -0.14775216, -0.06051697,  0.02671822,  0.11395342,  0.20118861,\n",
        "         0.2884238 ,  0.375659  ,  0.46289419,  0.55012938,  0.63736457,\n",
        "         0.72459977,  0.81183496,  0.89907015,  0.98630535,  1.07354054,\n",
        "         1.16077573,  1.24801092,  1.33524612,  1.42248131,  1.5097165 ,\n",
        "         1.59695169,  1.68418689,  1.77142208,  1.85865727,  1.94589247,\n",
        "         2.03312766,  2.12036285,  2.20759804,  2.29483324,  2.38206843,\n",
        "         2.46930362,  2.55653882,  2.64377401,  2.7310092 ,  2.81824439,\n",
        "         2.90547959,  2.99271478,  3.07994997,  3.16718517,  3.25442036,\n",
        "         3.34165555,  3.42889074,  3.51612594,  3.60336113,  3.69059632,\n",
        "         3.77783151,  3.86506671,  3.9523019 ,  4.03953709,  4.12677229,\n",
        "         4.21400748]),\n",
        " <a list of 100 Patch objects>)"
       ]
      }
     ],
     "prompt_number": 58
    },
    {
     "cell_type": "code",
     "collapsed": false,
     "input": [
      "import numpy as np\n",
      "import pylab\n",
      "import scipy.stats as stats\n",
      "\n",
      "stats.probplot(s,dist=\"norm\",plot=pylab)\n",
      "pylab.show"
     ],
     "language": "python",
     "metadata": {},
     "outputs": [
      {
       "metadata": {},
       "output_type": "pyout",
       "prompt_number": 66,
       "text": [
        "<function matplotlib.pyplot.show>"
       ]
      },
      {
       "metadata": {},
       "output_type": "display_data",
       "png": "[encoded data removed]",
       "text": [
        "<matplotlib.figure.Figure at 0x7fb53388e510>"
       ]
      }
     ],
     "prompt_number": 66
    },
    {
     "cell_type": "code",
     "collapsed": false,
     "input": [
      "stats.probplot(g,dist=\"norm\",plot=pylab)\n",
      "pylab.show"
     ],
     "language": "python",
     "metadata": {},
     "outputs": [
      {
       "metadata": {},
       "output_type": "pyout",
       "prompt_number": 67,
       "text": [
        "<function matplotlib.pyplot.show>"
       ]
      },
      {
       "metadata": {},
       "output_type": "display_data",
       "png": "[encoded data removed]",
       "text": [
        "<matplotlib.figure.Figure at 0x7fb53388e6d0>"
       ]
      }
     ],
     "prompt_number": 67
    },
    {
     "cell_type": "code",
     "collapsed": false,
     "input": [
      "h = [random.gauss(0,1) for i in range(len(s)*5)]\n",
      "stats.probplot(h,dist=\"norm\",plot=pylab)\n",
      "pylab.show"
     ],
     "language": "python",
     "metadata": {},
     "outputs": [
      {
       "metadata": {},
       "output_type": "pyout",
       "prompt_number": 68,
       "text": [
        "<function matplotlib.pyplot.show>"
       ]
      },
      {
       "metadata": {},
       "output_type": "display_data",
       "png": "[encoded data removed]",
       "text": [
        "<matplotlib.figure.Figure at 0x7fb53360cbd0>"
       ]
      }
     ],
     "prompt_number": 68
    },
    {
     "cell_type": "code",
     "collapsed": false,
     "input": [
      "print min(g),max(g)"
     ],
     "language": "python",
     "metadata": {},
     "outputs": [
      {
       "output_type": "stream",
       "stream": "stdout",
       "text": [
        "-4.50951180082 4.21400747883\n"
       ]
      }
     ],
     "prompt_number": 73
    },
    {
     "cell_type": "code",
     "collapsed": false,
     "input": [
      "print min(h),max(h)"
     ],
     "language": "python",
     "metadata": {},
     "outputs": [
      {
       "output_type": "stream",
       "stream": "stdout",
       "text": [
        "-4.84900950294 "
       ]
      },
      {
       "output_type": "stream",
       "stream": "stdout",
       "text": [
        "4.89192606765\n"
       ]
      }
     ],
     "prompt_number": 74
    }
   ],
   "metadata": {}
  }
 ]
}