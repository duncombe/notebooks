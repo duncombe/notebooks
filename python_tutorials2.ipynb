{
 "metadata": {
  "name": "",
  "signature": "sha256:4701f8a2a04e9d4676f637cbe55dce317ca4f90bf8300f391b0e1c5d88a21d99"
 },
 "nbformat": 3,
 "nbformat_minor": 0,
 "worksheets": [
  {
   "cells": [
    {
     "cell_type": "markdown",
     "metadata": {},
     "source": [
      "Tutorials from \n",
      "    - http://www.python-course.eu/execute_script.php "
     ]
    },
    {
     "cell_type": "code",
     "collapsed": false,
     "input": [
      "# import datetime as dt\n",
      "# import time as tm\n",
      "%matplotlib inline\n",
      "import matplotlib.pyplot as plt \n",
      "import numpy as np\n",
      "import random\n",
      "# import netCDF4\n"
     ],
     "language": "python",
     "metadata": {},
     "outputs": [],
     "prompt_number": 1
    },
    {
     "cell_type": "code",
     "collapsed": false,
     "input": [
      "# This is an awk thing (also C): \n",
      "# mx=(a>b)?a:b; In python\n",
      "a=1\n",
      "b=2\n",
      "mx = a if (a>b) else b;\n",
      "\n",
      "print mx\n",
      "    "
     ],
     "language": "python",
     "metadata": {},
     "outputs": [
      {
       "output_type": "stream",
       "stream": "stdout",
       "text": [
        "2\n"
       ]
      }
     ],
     "prompt_number": 2
    },
    {
     "cell_type": "code",
     "collapsed": false,
     "input": [
      "# help('max')\n",
      "\n",
      "print max(a,b)\n"
     ],
     "language": "python",
     "metadata": {},
     "outputs": [
      {
       "output_type": "stream",
       "stream": "stdout",
       "text": [
        "2\n"
       ]
      }
     ],
     "prompt_number": 3
    },
    {
     "cell_type": "code",
     "collapsed": false,
     "input": [
      "\n",
      "\n",
      "s=[]\n",
      "\n",
      "s= [random.gauss(0,1) for i in range(310234)]"
     ],
     "language": "python",
     "metadata": {},
     "outputs": [],
     "prompt_number": 4
    },
    {
     "cell_type": "code",
     "collapsed": false,
     "input": [
      "Smax=-float(\"inf\")\n",
      "Smin=float(\"inf\")\n",
      "for x in s:\n",
      "    Smax=x if ( x > Smax ) else Smax\n",
      "    Smin=x if ( x < Smin ) else Smin\n",
      "print Smax, Smin"
     ],
     "language": "python",
     "metadata": {},
     "outputs": [
      {
       "output_type": "stream",
       "stream": "stdout",
       "text": [
        "4.7994899157 -4.19527229358\n"
       ]
      }
     ],
     "prompt_number": 5
    },
    {
     "cell_type": "code",
     "collapsed": false,
     "input": [
      "x=sorted(s)"
     ],
     "language": "python",
     "metadata": {},
     "outputs": [],
     "prompt_number": 6
    },
    {
     "cell_type": "code",
     "collapsed": false,
     "input": [
      "\n",
      "plt.plot(x,'.')"
     ],
     "language": "python",
     "metadata": {},
     "outputs": [
      {
       "metadata": {},
       "output_type": "pyout",
       "prompt_number": 7,
       "text": [
        "[<matplotlib.lines.Line2D at 0x7fbcc66e3310>]"
       ]
      },
      {
       "metadata": {},
       "output_type": "display_data",
       "png": "[encoded data removed]",
       "text": [
        "<matplotlib.figure.Figure at 0x7fbce16bcb10>"
       ]
      }
     ],
     "prompt_number": 7
    },
    {
     "cell_type": "code",
     "collapsed": false,
     "input": [
      "s.count(s>2)"
     ],
     "language": "python",
     "metadata": {},
     "outputs": [
      {
       "metadata": {},
       "output_type": "pyout",
       "prompt_number": 8,
       "text": [
        "0"
       ]
      }
     ],
     "prompt_number": 8
    },
    {
     "cell_type": "code",
     "collapsed": false,
     "input": [
      "S=sum(i>2 for i in s)"
     ],
     "language": "python",
     "metadata": {},
     "outputs": [],
     "prompt_number": 9
    },
    {
     "cell_type": "code",
     "collapsed": false,
     "input": [
      "S=sum((i<=-4 or i>=4 )  for i in s)\n",
      "\n",
      "print S"
     ],
     "language": "python",
     "metadata": {},
     "outputs": [
      {
       "output_type": "stream",
       "stream": "stdout",
       "text": [
        "27\n"
       ]
      }
     ],
     "prompt_number": 10
    },
    {
     "cell_type": "code",
     "collapsed": false,
     "input": [
      "type(S)"
     ],
     "language": "python",
     "metadata": {},
     "outputs": [
      {
       "metadata": {},
       "output_type": "pyout",
       "prompt_number": 11,
       "text": [
        "int"
       ]
      }
     ],
     "prompt_number": 11
    },
    {
     "cell_type": "code",
     "collapsed": false,
     "input": [
      "len(s)\n"
     ],
     "language": "python",
     "metadata": {},
     "outputs": [
      {
       "metadata": {},
       "output_type": "pyout",
       "prompt_number": 12,
       "text": [
        "310234"
       ]
      }
     ],
     "prompt_number": 12
    },
    {
     "cell_type": "code",
     "collapsed": false,
     "input": [
      "n = 100\n",
      "sum = 0\n",
      "i = 1 \n",
      "while  i <= n:\n",
      "    sum = sum + i\n",
      "    i = i + 1\n",
      "    \n",
      "print \" Sum of 1 to %d: %d\" % (n,sum)"
     ],
     "language": "python",
     "metadata": {},
     "outputs": [
      {
       "output_type": "stream",
       "stream": "stdout",
       "text": [
        " Sum of 1 to 100: 5050\n"
       ]
      }
     ],
     "prompt_number": 13
    },
    {
     "cell_type": "code",
     "collapsed": false,
     "input": [
      "# import sys\n",
      "# text = \"\"\n",
      "# print \"Enter text:\" \n",
      "# \n",
      "# while 1:\n",
      "#     c=sys.stdin.read(1)\n",
      "#     text=text+c\n",
      "#     if c == '\\n':\n",
      "#         break\n",
      "#         \n",
      "# print \"Input: %s \" % text\n"
     ],
     "language": "python",
     "metadata": {},
     "outputs": [],
     "prompt_number": 14
    },
    {
     "cell_type": "code",
     "collapsed": false,
     "input": [
      "n=20\n",
      "tbg=int(n*random.random()) + 1\n",
      "guess = 0\n",
      "while guess != tbg:\n",
      "    guess = input(\"New number: \")\n",
      "    if guess > 0:\n",
      "        if guess == tbg:\n",
      "            print \"You guessed\", guess\n",
      "        elif guess > tbg:\n",
      "            print \"number too large\"\n",
      "        else:\n",
      "            print \"number too small\"\n",
      "    else:\n",
      "        print \"Sorry that you are giving up\"\n",
      "        break\n",
      "else:\n",
      "    print \"That is the number\"\n",
      "    \n",
      "    "
     ],
     "language": "python",
     "metadata": {},
     "outputs": [
      {
       "name": "stdout",
       "output_type": "stream",
       "stream": "stdout",
       "text": [
        "New number: 10\n"
       ]
      },
      {
       "output_type": "stream",
       "stream": "stdout",
       "text": [
        "number too small\n"
       ]
      },
      {
       "name": "stdout",
       "output_type": "stream",
       "stream": "stdout",
       "text": [
        "New number: 15\n"
       ]
      },
      {
       "output_type": "stream",
       "stream": "stdout",
       "text": [
        "number too small\n"
       ]
      },
      {
       "name": "stdout",
       "output_type": "stream",
       "stream": "stdout",
       "text": [
        "New number: 17\n"
       ]
      },
      {
       "output_type": "stream",
       "stream": "stdout",
       "text": [
        "number too small\n"
       ]
      },
      {
       "name": "stdout",
       "output_type": "stream",
       "stream": "stdout",
       "text": [
        "New number: 18\n"
       ]
      },
      {
       "output_type": "stream",
       "stream": "stdout",
       "text": [
        "You guessed 18\n",
        "That is the number\n"
       ]
      }
     ],
     "prompt_number": 15
    },
    {
     "cell_type": "code",
     "collapsed": false,
     "input": [
      "languages = [\"C\", \"C++\", \"Perl\", \"Python\"]\n",
      "for x in languages:\n",
      "    print x"
     ],
     "language": "python",
     "metadata": {},
     "outputs": [
      {
       "output_type": "stream",
       "stream": "stdout",
       "text": [
        "C\n",
        "C++\n",
        "Perl\n",
        "Python\n"
       ]
      }
     ],
     "prompt_number": 16
    },
    {
     "cell_type": "code",
     "collapsed": false,
     "input": [
      "print range(10)\n",
      "print range(10,25)\n",
      "print range(10,25,3)"
     ],
     "language": "python",
     "metadata": {},
     "outputs": [
      {
       "output_type": "stream",
       "stream": "stdout",
       "text": [
        "[0, 1, 2, 3, 4, 5, 6, 7, 8, 9]\n",
        "[10, 11, 12, 13, 14, 15, 16, 17, 18, 19, 20, 21, 22, 23, 24]\n",
        "[10, 13, 16, 19, 22]\n"
       ]
      }
     ],
     "prompt_number": 17
    },
    {
     "cell_type": "code",
     "collapsed": false,
     "input": [
      "n = 101\n",
      "sum = 0\n",
      "for i in range(1,n):\n",
      "    sum = sum + i\n",
      "print sum"
     ],
     "language": "python",
     "metadata": {},
     "outputs": [
      {
       "output_type": "stream",
       "stream": "stdout",
       "text": [
        "5050\n"
       ]
      }
     ],
     "prompt_number": 18
    },
    {
     "cell_type": "code",
     "collapsed": false,
     "input": [
      "import math \n",
      "from math import sqrt\n",
      "\n",
      "def gcd(x, y):\n",
      "    while y != 0:\n",
      "        # print x,y\n",
      "        (x, y) = (y, x%y)\n",
      "    return x\n",
      "\n",
      "def lcm(x, y):\n",
      "    return (x * y) // gcd(x, y)\n",
      "\n",
      "def cf(lis):\n",
      "    return reduce(gcd,lis)"
     ],
     "language": "python",
     "metadata": {},
     "outputs": [],
     "prompt_number": 19
    },
    {
     "cell_type": "code",
     "collapsed": false,
     "input": [
      "print gcd(15,40)\n",
      "print gcd(40,30)\n",
      "print gcd(30, 15)"
     ],
     "language": "python",
     "metadata": {},
     "outputs": [
      {
       "output_type": "stream",
       "stream": "stdout",
       "text": [
        "5\n",
        "10\n",
        "15\n"
       ]
      }
     ],
     "prompt_number": 20
    },
    {
     "cell_type": "code",
     "collapsed": false,
     "input": [
      "print reduce(gcd,[3,4,5])\n",
      "print reduce(gcd,[9,12,15])\n",
      "print reduce(gcd,[40,10,30])\n",
      "print reduce(gcd,[111,555,114,21])"
     ],
     "language": "python",
     "metadata": {},
     "outputs": [
      {
       "output_type": "stream",
       "stream": "stdout",
       "text": [
        "1\n",
        "3\n",
        "10\n",
        "3\n"
       ]
      }
     ],
     "prompt_number": 21
    },
    {
     "cell_type": "code",
     "collapsed": false,
     "input": [
      "print cf([10,12,14])"
     ],
     "language": "python",
     "metadata": {},
     "outputs": [
      {
       "output_type": "stream",
       "stream": "stdout",
       "text": [
        "2\n"
       ]
      }
     ],
     "prompt_number": 22
    },
    {
     "cell_type": "code",
     "collapsed": false,
     "input": [
      "# calculate pythagorean numbers, excluding multiples\n",
      "n = raw_input(\"Maximal number? \")\n",
      "n = int(n)+1\n",
      "for a in range(1,n):\n",
      "    for b in range(a,n):\n",
      "        c_sqr = a**2 + b**2\n",
      "        c = int(sqrt(c_sqr))\n",
      "        if ((c_sqr - c**2) == 0):\n",
      "            if cf([a,b,c]) == 1: \n",
      "                print a, b, c\n",
      "            "
     ],
     "language": "python",
     "metadata": {},
     "outputs": [
      {
       "name": "stdout",
       "output_type": "stream",
       "stream": "stdout",
       "text": [
        "Maximal number? 200\n"
       ]
      },
      {
       "output_type": "stream",
       "stream": "stdout",
       "text": [
        "3 4 5\n",
        "5 12 13\n",
        "7 24 25\n",
        "8 15 17\n",
        "9 40 41\n",
        "11 60 61\n",
        "12 35 37\n",
        "13 84 85\n",
        "15 112 113\n",
        "16 63 65\n",
        "17 144 145\n",
        "19 180 181\n",
        "20 21 29\n",
        "20 99 101\n",
        "24 143 145\n",
        "28 45 53\n",
        "28 195 197\n",
        "33 56 65\n",
        "36 77 85\n",
        "39 80 89\n",
        "44 117 125\n",
        "48 55 73\n",
        "51 140 149\n",
        "52 165 173\n",
        "57 176 185\n",
        "60 91 109\n",
        "65 72 97\n",
        "84 187 205\n",
        "85 132 157\n",
        "88 105 137\n",
        "95 168 193\n",
        "104 153 185\n",
        "119 120 169\n",
        "133 156 205\n",
        "140 171 221\n"
       ]
      }
     ],
     "prompt_number": 23
    },
    {
     "cell_type": "code",
     "collapsed": false,
     "input": [
      "8.93**2+9.24**2 - 12.85**2\n"
     ],
     "language": "python",
     "metadata": {},
     "outputs": [
      {
       "metadata": {},
       "output_type": "pyout",
       "prompt_number": 25,
       "text": [
        "0.0"
       ]
      }
     ],
     "prompt_number": 25
    },
    {
     "cell_type": "code",
     "collapsed": false,
     "input": [
      "fib=[0,1]\n",
      "\n",
      "for i in range(1,20):\n",
      "    fib.append(fib[i-1]+fib[i])\n",
      "\n",
      "print fib\n",
      "    "
     ],
     "language": "python",
     "metadata": {},
     "outputs": [
      {
       "output_type": "stream",
       "stream": "stdout",
       "text": [
        "[0, 1, 1, 2, 3, 5, 8, 13, 21, 34, 55, 89, 144, 233, 377, 610, 987, 1597, 2584, 4181, 6765]\n"
       ]
      }
     ],
     "prompt_number": 37
    }
   ],
   "metadata": {}
  }
 ]
}