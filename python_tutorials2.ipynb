{
 "metadata": {
  "name": "",
  "signature": "sha256:70b5e2c9e4f568b8c9eecd9343294cd7c6954e7e6fa7f77871063f5cf29f0f57"
 },
 "nbformat": 3,
 "nbformat_minor": 0,
 "worksheets": [
  {
   "cells": [
    {
     "cell_type": "markdown",
     "metadata": {},
     "source": [
      "Tutorials from \n",
      "    - http://www.python-course.eu/execute_script.php "
     ]
    },
    {
     "cell_type": "code",
     "collapsed": false,
     "input": [
      "# import datetime as dt\n",
      "# import time as tm\n",
      "%matplotlib inline\n",
      "import matplotlib.pyplot as plt \n",
      "import numpy as np\n",
      "import random\n",
      "# import netCDF4\n"
     ],
     "language": "python",
     "metadata": {},
     "outputs": [],
     "prompt_number": 1
    },
    {
     "cell_type": "code",
     "collapsed": false,
     "input": [
      "# This is an awk thing (also C): \n",
      "# mx=(a>b)?a:b; In python\n",
      "a=1\n",
      "b=2\n",
      "mx = a if (a>b) else b;\n",
      "\n",
      "print mx\n",
      "    "
     ],
     "language": "python",
     "metadata": {},
     "outputs": [
      {
       "output_type": "stream",
       "stream": "stdout",
       "text": [
        "2\n"
       ]
      }
     ],
     "prompt_number": 2
    },
    {
     "cell_type": "code",
     "collapsed": false,
     "input": [
      "# help('max')\n",
      "\n",
      "print max(a,b)\n"
     ],
     "language": "python",
     "metadata": {},
     "outputs": [
      {
       "output_type": "stream",
       "stream": "stdout",
       "text": [
        "2\n"
       ]
      }
     ],
     "prompt_number": 3
    },
    {
     "cell_type": "code",
     "collapsed": false,
     "input": [
      "\n",
      "\n",
      "s=[]\n",
      "\n",
      "s= [random.gauss(0,1) for i in range(310234)]"
     ],
     "language": "python",
     "metadata": {},
     "outputs": [],
     "prompt_number": 4
    },
    {
     "cell_type": "code",
     "collapsed": false,
     "input": [
      "Smax=-float(\"inf\")\n",
      "Smin=float(\"inf\")\n",
      "for x in s:\n",
      "    Smax=x if ( x > Smax ) else Smax\n",
      "    Smin=x if ( x < Smin ) else Smin\n",
      "print Smax, Smin"
     ],
     "language": "python",
     "metadata": {},
     "outputs": [
      {
       "output_type": "stream",
       "stream": "stdout",
       "text": [
        "4.62078494095 -4.78243313462\n"
       ]
      }
     ],
     "prompt_number": 5
    },
    {
     "cell_type": "code",
     "collapsed": false,
     "input": [
      "x=sorted(s)"
     ],
     "language": "python",
     "metadata": {},
     "outputs": [],
     "prompt_number": 6
    },
    {
     "cell_type": "code",
     "collapsed": false,
     "input": [
      "\n",
      "plt.plot(x,'.')"
     ],
     "language": "python",
     "metadata": {},
     "outputs": [
      {
       "metadata": {},
       "output_type": "pyout",
       "prompt_number": 7,
       "text": [
        "[<matplotlib.lines.Line2D at 0x7fe08bc64290>]"
       ]
      },
      {
       "metadata": {},
       "output_type": "display_data",
       "png": "[encoded data removed]",
       "text": [
        "<matplotlib.figure.Figure at 0x7fe0a803c5d0>"
       ]
      }
     ],
     "prompt_number": 7
    },
    {
     "cell_type": "code",
     "collapsed": false,
     "input": [
      "s.count(s>2)"
     ],
     "language": "python",
     "metadata": {},
     "outputs": [
      {
       "metadata": {},
       "output_type": "pyout",
       "prompt_number": 8,
       "text": [
        "0"
       ]
      }
     ],
     "prompt_number": 8
    },
    {
     "cell_type": "code",
     "collapsed": false,
     "input": [
      "S=sum(i>2 for i in s)"
     ],
     "language": "python",
     "metadata": {},
     "outputs": [],
     "prompt_number": 9
    },
    {
     "cell_type": "code",
     "collapsed": false,
     "input": [
      "S=sum((i<=-4 or i>=4 )  for i in s)\n",
      "\n",
      "print S"
     ],
     "language": "python",
     "metadata": {},
     "outputs": [
      {
       "output_type": "stream",
       "stream": "stdout",
       "text": [
        "25\n"
       ]
      }
     ],
     "prompt_number": 10
    },
    {
     "cell_type": "code",
     "collapsed": false,
     "input": [
      "type(S)"
     ],
     "language": "python",
     "metadata": {},
     "outputs": [
      {
       "metadata": {},
       "output_type": "pyout",
       "prompt_number": 11,
       "text": [
        "int"
       ]
      }
     ],
     "prompt_number": 11
    },
    {
     "cell_type": "code",
     "collapsed": false,
     "input": [
      "len(s)\n"
     ],
     "language": "python",
     "metadata": {},
     "outputs": [
      {
       "metadata": {},
       "output_type": "pyout",
       "prompt_number": 12,
       "text": [
        "310234"
       ]
      }
     ],
     "prompt_number": 12
    },
    {
     "cell_type": "code",
     "collapsed": false,
     "input": [
      "n = 100\n",
      "sum = 0\n",
      "i = 1 \n",
      "while  i <= n:\n",
      "    sum = sum + i\n",
      "    i = i + 1\n",
      "    \n",
      "print \" Sum of 1 to %d: %d\" % (n,sum)"
     ],
     "language": "python",
     "metadata": {},
     "outputs": [
      {
       "output_type": "stream",
       "stream": "stdout",
       "text": [
        " Sum of 1 to 100: 5050\n"
       ]
      }
     ],
     "prompt_number": 13
    },
    {
     "cell_type": "code",
     "collapsed": false,
     "input": [
      "# import sys\n",
      "# text = \"\"\n",
      "# print \"Enter text:\" \n",
      "# \n",
      "# while 1:\n",
      "#     c=sys.stdin.read(1)\n",
      "#     text=text+c\n",
      "#     if c == '\\n':\n",
      "#         break\n",
      "#         \n",
      "# print \"Input: %s \" % text\n"
     ],
     "language": "python",
     "metadata": {},
     "outputs": [],
     "prompt_number": 14
    },
    {
     "cell_type": "code",
     "collapsed": false,
     "input": [
      "n=20\n",
      "tbg=int(n*random.random()) + 1\n",
      "guess = 0\n",
      "while guess != tbg:\n",
      "    guess = input(\"New number: \")\n",
      "    if guess > 0:\n",
      "        if guess == tbg:\n",
      "            print \"You guessed\", guess\n",
      "        elif guess > tbg:\n",
      "            print \"number too large\"\n",
      "        else:\n",
      "            print \"number too small\"\n",
      "    else:\n",
      "        print \"Sorry that you are giving up\"\n",
      "        break\n",
      "else:\n",
      "    print \"That is the number\"\n",
      "    \n",
      "    "
     ],
     "language": "python",
     "metadata": {},
     "outputs": [
      {
       "name": "stdout",
       "output_type": "stream",
       "stream": "stdout",
       "text": [
        "New number: 10\n"
       ]
      },
      {
       "output_type": "stream",
       "stream": "stdout",
       "text": [
        "number too large\n"
       ]
      },
      {
       "name": "stdout",
       "output_type": "stream",
       "stream": "stdout",
       "text": [
        "New number: 5\n"
       ]
      },
      {
       "output_type": "stream",
       "stream": "stdout",
       "text": [
        "number too large\n"
       ]
      },
      {
       "name": "stdout",
       "output_type": "stream",
       "stream": "stdout",
       "text": [
        "New number: 3\n"
       ]
      },
      {
       "output_type": "stream",
       "stream": "stdout",
       "text": [
        "number too large\n"
       ]
      },
      {
       "name": "stdout",
       "output_type": "stream",
       "stream": "stdout",
       "text": [
        "New number: 2\n"
       ]
      },
      {
       "output_type": "stream",
       "stream": "stdout",
       "text": [
        "You guessed 2\n",
        "That is the number\n"
       ]
      }
     ],
     "prompt_number": 23
    },
    {
     "cell_type": "code",
     "collapsed": false,
     "input": [
      "languages = [\"C\", \"C++\", \"Perl\", \"Python\"]\n",
      "for x in languages:\n",
      "    print x"
     ],
     "language": "python",
     "metadata": {},
     "outputs": [
      {
       "output_type": "stream",
       "stream": "stdout",
       "text": [
        "C\n",
        "C++\n",
        "Perl\n",
        "Python\n"
       ]
      }
     ],
     "prompt_number": 25
    },
    {
     "cell_type": "code",
     "collapsed": false,
     "input": [
      "print range(10)\n",
      "print range(10,25)\n",
      "print range(10,25,3)"
     ],
     "language": "python",
     "metadata": {},
     "outputs": [
      {
       "output_type": "stream",
       "stream": "stdout",
       "text": [
        "[0, 1, 2, 3, 4, 5, 6, 7, 8, 9]\n",
        "[10, 11, 12, 13, 14, 15, 16, 17, 18, 19, 20, 21, 22, 23, 24]\n",
        "[10, 13, 16, 19, 22]\n"
       ]
      }
     ],
     "prompt_number": 30
    },
    {
     "cell_type": "code",
     "collapsed": false,
     "input": [
      "n = 101\n",
      "sum = 0\n",
      "for i in range(1,n):\n",
      "    sum = sum + i\n",
      "print sum"
     ],
     "language": "python",
     "metadata": {},
     "outputs": [
      {
       "output_type": "stream",
       "stream": "stdout",
       "text": [
        "5050\n"
       ]
      }
     ],
     "prompt_number": 32
    },
    {
     "cell_type": "code",
     "collapsed": false,
     "input": [
      "import math \n",
      "from math import sqrt\n",
      "\n",
      "def gcd(x, y):\n",
      "    while y != 0:\n",
      "        # print x,y\n",
      "        (x, y) = (y, x%y)\n",
      "    return x\n",
      "\n",
      "def lcm(x, y):\n",
      "    return (x * y) // gcd(x, y)\n",
      "\n",
      "def cf(lis):\n",
      "    return reduce(gcd,lis)"
     ],
     "language": "python",
     "metadata": {},
     "outputs": [],
     "prompt_number": 87
    },
    {
     "cell_type": "code",
     "collapsed": false,
     "input": [
      "print gcd(15,40)\n",
      "print gcd(40,30)\n",
      "print gcd(30, 15)"
     ],
     "language": "python",
     "metadata": {},
     "outputs": [
      {
       "output_type": "stream",
       "stream": "stdout",
       "text": [
        "5\n",
        "10\n",
        "15\n"
       ]
      }
     ],
     "prompt_number": 88
    },
    {
     "cell_type": "code",
     "collapsed": false,
     "input": [
      "print reduce(gcd,[3,4,5])\n",
      "print reduce(gcd,[9,12,15])\n",
      "print reduce(gcd,[40,10,30])\n",
      "print reduce(gcd,[111,555,114,21])"
     ],
     "language": "python",
     "metadata": {},
     "outputs": [
      {
       "output_type": "stream",
       "stream": "stdout",
       "text": [
        "1\n",
        "3\n",
        "10\n",
        "3\n"
       ]
      }
     ],
     "prompt_number": 89
    },
    {
     "cell_type": "code",
     "collapsed": false,
     "input": [
      "print cf([10,12,14])"
     ],
     "language": "python",
     "metadata": {},
     "outputs": [
      {
       "output_type": "stream",
       "stream": "stdout",
       "text": [
        "2\n"
       ]
      }
     ],
     "prompt_number": 90
    },
    {
     "cell_type": "code",
     "collapsed": false,
     "input": [
      "# calculate pythagorean numbers, excluding multiples\n",
      "n = raw_input(\"Maximal number? \")\n",
      "n = int(n)+1\n",
      "for a in range(1,n):\n",
      "    for b in range(a,n):\n",
      "        c_sqr = a**2 + b**2\n",
      "        c = int(sqrt(c_sqr))\n",
      "        if ((c_sqr - c**2) == 0):\n",
      "            if cf([a,b,c]) == 1: \n",
      "                print a, b, c\n",
      "            "
     ],
     "language": "python",
     "metadata": {},
     "outputs": [
      {
       "name": "stdout",
       "output_type": "stream",
       "stream": "stdout",
       "text": [
        "Maximal number? 1000\n"
       ]
      },
      {
       "output_type": "stream",
       "stream": "stdout",
       "text": [
        "3 4 5\n",
        "5 12 13\n",
        "7 24 25\n",
        "8 15 17\n",
        "9 40 41\n",
        "11 60 61\n",
        "12 35 37\n",
        "13 84 85\n",
        "15 112 113\n",
        "16 63 65\n",
        "17 144 145\n",
        "19 180 181\n",
        "20 21 29\n",
        "20 99 101\n",
        "21 220 221\n",
        "23 264 265\n",
        "24 143 145\n",
        "25 312 313\n",
        "27 364 365\n",
        "28 45 53\n",
        "28 195 197\n",
        "29 420 421\n",
        "31 480 481\n",
        "32 255 257\n",
        "33 56 65\n",
        "33 544 545\n",
        "35 612 613\n",
        "36 77 85\n",
        "36 323 325\n",
        "37 684 685\n",
        "39 80 89\n",
        "39 760 761\n",
        "40 399 401\n",
        "41 840 841\n",
        "43 924 925\n",
        "44 117 125\n",
        "44 483 485\n",
        "48 55 73\n",
        "48 575 577\n",
        "51"
       ]
      },
      {
       "output_type": "stream",
       "stream": "stdout",
       "text": [
        " 140 149\n",
        "52 165 173\n",
        "52 675 677\n",
        "56 783 785\n",
        "57 176 185\n",
        "60 91 109\n",
        "60 221 229\n",
        "60 899 901\n",
        "65 72 97\n",
        "68 285 293\n",
        "69 260 269\n",
        "75 308 317\n",
        "76 357 365\n",
        "84 187 205\n",
        "84 437 445"
       ]
      },
      {
       "output_type": "stream",
       "stream": "stdout",
       "text": [
        "\n",
        "85 132 157\n",
        "87 416 425\n",
        "88 105 137\n",
        "92 525 533\n",
        "93 476 485\n",
        "95 168 193\n",
        "96 247 265\n",
        "100 621 629\n",
        "104 153 185\n",
        "105 208 233\n",
        "105 608 617\n",
        "108 725 733\n",
        "111 680 689\n",
        "115 252 277\n",
        "116 837 845\n",
        "119 120 169\n",
        "120 209 241\n",
        "120 391 409\n",
        "123 836 845\n",
        "124 957 965\n",
        "129 920 929\n",
        "132 475 493\n",
        "133 156 205\n",
        "135 352 377\n",
        "136 273 305\n",
        "140"
       ]
      },
      {
       "output_type": "stream",
       "stream": "stdout",
       "text": [
        " 171 221\n",
        "145 408 433\n",
        "152 345 377\n",
        "155 468 493\n",
        "156 667 685\n",
        "160 231 281\n",
        "161 240 289\n",
        "165 532 557\n",
        "168 425 457\n",
        "168 775 793\n",
        "175 288 337\n",
        "180 299 349\n",
        "184 513 545\n",
        "185 672 697\n",
        "189 340 389\n",
        "195 748 773\n",
        "200"
       ]
      },
      {
       "output_type": "stream",
       "stream": "stdout",
       "text": [
        " 609 641\n",
        "203 396 445\n",
        "204 253 325\n",
        "205 828 853\n",
        "207 224 305\n",
        "215 912 937\n",
        "216 713 745\n",
        "217 456 505\n",
        "220 459 509\n",
        "225 272 353\n",
        "228 325 397\n",
        "231 520 569\n",
        "232 825 857\n",
        "240 551 601\n",
        "248 945 977\n",
        "252 275 373\n",
        "259 660 709\n",
        "260 651 701\n",
        "261 380 461\n",
        "273"
       ]
      },
      {
       "output_type": "stream",
       "stream": "stdout",
       "text": [
        " 736 785\n",
        "276 493 565\n",
        "279 440 521\n",
        "280 351 449\n",
        "280 759 809\n",
        "287 816 865\n",
        "297 304 425\n",
        "300 589 661\n",
        "301 900 949\n",
        "308 435 533\n",
        "315 572 653\n",
        "315 988 1037\n",
        "319 360 481\n",
        "320 999 1049\n",
        "333"
       ]
      },
      {
       "output_type": "stream",
       "stream": "stdout",
       "text": [
        " 644 725\n",
        "336 377 505\n",
        "336 527 625\n",
        "341 420 541\n",
        "348 805 877\n",
        "364 627 725\n",
        "368 465 593\n",
        "369 800 881\n",
        "372 925 997\n",
        "385 552 673\n",
        "387 884 965\n",
        "396 403 565\n",
        "400 561 689\n",
        "407 624 745\n",
        "420"
       ]
      },
      {
       "output_type": "stream",
       "stream": "stdout",
       "text": [
        " 851 949\n",
        "429 460 629\n",
        "429 700 821\n",
        "432 665 793\n",
        "448 975 1073\n",
        "451 780 901\n",
        "455 528 697\n",
        "464 777 905\n",
        "468 595 757\n",
        "473 864 985\n",
        "481 600 769\n",
        "495 952 1073\n",
        "496 897 1025\n",
        "504 703 865\n",
        "533"
       ]
      },
      {
       "output_type": "stream",
       "stream": "stdout",
       "text": [
        " 756 925\n",
        "540 629 829\n",
        "555 572 797\n",
        "559 840 1009\n",
        "576 943 1105\n",
        "580 741 941\n",
        "585"
       ]
      },
      {
       "output_type": "stream",
       "stream": "stdout",
       "text": [
        " 928 1097\n",
        "615 728 953\n",
        "616 663 905\n",
        "620 861 1061\n",
        "645 812 1037\n",
        "660 779 1021\n",
        "660 989 1189\n",
        "696 697 985\n",
        "704 903 1145\n",
        "705 992 1217\n",
        "731"
       ]
      },
      {
       "output_type": "stream",
       "stream": "stdout",
       "text": [
        " 780 1069\n",
        "744 817 1105\n",
        "765 868 1157\n",
        "799 960 1249\n",
        "832 855 1193\n",
        "884 987 1325\n",
        "893 924 1285\n"
       ]
      }
     ],
     "prompt_number": 93
    },
    {
     "cell_type": "code",
     "collapsed": false,
     "input": [
      "8.93**2+9.24**2 - 12.85**2\n"
     ],
     "language": "python",
     "metadata": {},
     "outputs": [
      {
       "metadata": {},
       "output_type": "pyout",
       "prompt_number": 98,
       "text": [
        "0.0"
       ]
      }
     ],
     "prompt_number": 98
    },
    {
     "cell_type": "code",
     "collapsed": false,
     "input": [],
     "language": "python",
     "metadata": {},
     "outputs": []
    }
   ],
   "metadata": {}
  }
 ]
}