{
 "metadata": {
  "name": "",
  "signature": "sha256:9923be5fb89291093b144fde5ed20c1f8089781b7ba858307b324ce52160ced7"
 },
 "nbformat": 3,
 "nbformat_minor": 0,
 "worksheets": [
  {
   "cells": [
    {
     "cell_type": "markdown",
     "metadata": {},
     "source": [
      "Tutorials from \n",
      "    - http://www.python-course.eu/execute_script.php "
     ]
    },
    {
     "cell_type": "code",
     "collapsed": false,
     "input": [
      "# import datetime as dt\n",
      "# import time as tm\n",
      "%matplotlib inline\n",
      "import matplotlib.pyplot as plt \n",
      "import numpy as np\n",
      "import random\n",
      "# import netCDF4\n"
     ],
     "language": "python",
     "metadata": {},
     "outputs": [],
     "prompt_number": 1
    },
    {
     "cell_type": "code",
     "collapsed": false,
     "input": [
      "# This is an awk thing (also C): \n",
      "# mx=(a>b)?a:b; In python\n",
      "a=1\n",
      "b=2\n",
      "mx = a if (a>b) else b;\n",
      "\n",
      "print mx\n",
      "    "
     ],
     "language": "python",
     "metadata": {},
     "outputs": [
      {
       "output_type": "stream",
       "stream": "stdout",
       "text": [
        "2\n"
       ]
      }
     ],
     "prompt_number": 2
    },
    {
     "cell_type": "code",
     "collapsed": false,
     "input": [
      "# help('max')\n",
      "\n",
      "print max(a,b)\n"
     ],
     "language": "python",
     "metadata": {},
     "outputs": [
      {
       "output_type": "stream",
       "stream": "stdout",
       "text": [
        "2\n"
       ]
      }
     ],
     "prompt_number": 3
    },
    {
     "cell_type": "code",
     "collapsed": false,
     "input": [
      "\n",
      "\n",
      "s=[]\n",
      "\n",
      "s= [random.gauss(0,1) for i in range(310234)]"
     ],
     "language": "python",
     "metadata": {},
     "outputs": [],
     "prompt_number": 29
    },
    {
     "cell_type": "code",
     "collapsed": false,
     "input": [
      "Smax=-float(\"inf\")\n",
      "Smin=float(\"inf\")\n",
      "for x in s:\n",
      "    Smax=x if ( x > Smax ) else Smax\n",
      "    Smin=x if ( x < Smin ) else Smin\n",
      "print Smax, Smin"
     ],
     "language": "python",
     "metadata": {},
     "outputs": [
      {
       "output_type": "stream",
       "stream": "stdout",
       "text": [
        "4.28763851024 -4.57889412912\n"
       ]
      }
     ],
     "prompt_number": 30
    },
    {
     "cell_type": "code",
     "collapsed": false,
     "input": [
      "x=sorted(s)"
     ],
     "language": "python",
     "metadata": {},
     "outputs": [],
     "prompt_number": 31
    },
    {
     "cell_type": "code",
     "collapsed": false,
     "input": [
      "\n",
      "plt.plot(x,'.')"
     ],
     "language": "python",
     "metadata": {},
     "outputs": [
      {
       "metadata": {},
       "output_type": "pyout",
       "prompt_number": 32,
       "text": [
        "[<matplotlib.lines.Line2D at 0x7fd7a0d87490>]"
       ]
      },
      {
       "metadata": {},
       "output_type": "display_data",
       "png": "[encoded data removed]",
       "text": [
        "<matplotlib.figure.Figure at 0x7fd7a0df4690>"
       ]
      }
     ],
     "prompt_number": 32
    },
    {
     "cell_type": "code",
     "collapsed": false,
     "input": [
      "s.count(s>2)"
     ],
     "language": "python",
     "metadata": {},
     "outputs": [
      {
       "metadata": {},
       "output_type": "pyout",
       "prompt_number": 39,
       "text": [
        "0"
       ]
      }
     ],
     "prompt_number": 39
    }
   ],
   "metadata": {}
  }
 ]
}